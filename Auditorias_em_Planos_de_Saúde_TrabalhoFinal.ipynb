{
  "nbformat": 4,
  "nbformat_minor": 0,
  "metadata": {
    "colab": {
      "name": "Auditorias em Planos de Saúde-TrabalhoFinal.ipynb",
      "provenance": [],
      "collapsed_sections": [
        "DdD-_komSUCV"
      ]
    },
    "kernelspec": {
      "name": "python3",
      "display_name": "Python 3"
    },
    "language_info": {
      "name": "python"
    }
  },
  "cells": [
    {
      "cell_type": "markdown",
      "source": [
        "# Participantes do Grupo 6\n"
      ],
      "metadata": {
        "id": "EYdKlHJ3Q1ZC"
      }
    },
    {
      "cell_type": "markdown",
      "source": [
        "Josiel Pantaleão\n",
        "\n",
        "Rodrigo Mendes\n",
        "\n",
        "Matheus Fares\n",
        "\n",
        "Mariana Dourado"
      ],
      "metadata": {
        "id": "kE7OKEMrQ4ip"
      }
    },
    {
      "cell_type": "markdown",
      "source": [
        "# Importando as bibliotecas"
      ],
      "metadata": {
        "id": "0gWisJ212qLa"
      }
    },
    {
      "cell_type": "code",
      "source": [
        "!pip install -U pandas-profiling"
      ],
      "metadata": {
        "colab": {
          "base_uri": "https://localhost:8080/"
        },
        "id": "q3tE-n9YNjAJ",
        "outputId": "8d6be6b8-22e3-4c90-9481-19b2dd93c094"
      },
      "execution_count": 1,
      "outputs": [
        {
          "output_type": "stream",
          "name": "stdout",
          "text": [
            "Requirement already satisfied: pandas-profiling in /usr/local/lib/python3.7/dist-packages (3.1.0)\n",
            "Requirement already satisfied: scipy>=1.4.1 in /usr/local/lib/python3.7/dist-packages (from pandas-profiling) (1.7.3)\n",
            "Requirement already satisfied: numpy>=1.16.0 in /usr/local/lib/python3.7/dist-packages (from pandas-profiling) (1.21.5)\n",
            "Requirement already satisfied: tqdm>=4.48.2 in /usr/local/lib/python3.7/dist-packages (from pandas-profiling) (4.63.0)\n",
            "Requirement already satisfied: jinja2>=2.11.1 in /usr/local/lib/python3.7/dist-packages (from pandas-profiling) (2.11.3)\n",
            "Requirement already satisfied: pandas!=1.0.0,!=1.0.1,!=1.0.2,!=1.1.0,>=0.25.3 in /usr/local/lib/python3.7/dist-packages (from pandas-profiling) (1.3.5)\n",
            "Requirement already satisfied: requests>=2.24.0 in /usr/local/lib/python3.7/dist-packages (from pandas-profiling) (2.27.1)\n",
            "Requirement already satisfied: multimethod>=1.4 in /usr/local/lib/python3.7/dist-packages (from pandas-profiling) (1.7)\n",
            "Requirement already satisfied: htmlmin>=0.1.12 in /usr/local/lib/python3.7/dist-packages (from pandas-profiling) (0.1.12)\n",
            "Requirement already satisfied: seaborn>=0.10.1 in /usr/local/lib/python3.7/dist-packages (from pandas-profiling) (0.11.2)\n",
            "Requirement already satisfied: phik>=0.11.1 in /usr/local/lib/python3.7/dist-packages (from pandas-profiling) (0.12.2)\n",
            "Requirement already satisfied: pydantic>=1.8.1 in /usr/local/lib/python3.7/dist-packages (from pandas-profiling) (1.9.0)\n",
            "Requirement already satisfied: markupsafe~=2.0.1 in /usr/local/lib/python3.7/dist-packages (from pandas-profiling) (2.0.1)\n",
            "Requirement already satisfied: visions[type_image_path]==0.7.4 in /usr/local/lib/python3.7/dist-packages (from pandas-profiling) (0.7.4)\n",
            "Requirement already satisfied: joblib~=1.0.1 in /usr/local/lib/python3.7/dist-packages (from pandas-profiling) (1.0.1)\n",
            "Requirement already satisfied: matplotlib>=3.2.0 in /usr/local/lib/python3.7/dist-packages (from pandas-profiling) (3.2.2)\n",
            "Requirement already satisfied: PyYAML>=5.0.0 in /usr/local/lib/python3.7/dist-packages (from pandas-profiling) (6.0)\n",
            "Requirement already satisfied: tangled-up-in-unicode==0.1.0 in /usr/local/lib/python3.7/dist-packages (from pandas-profiling) (0.1.0)\n",
            "Requirement already satisfied: missingno>=0.4.2 in /usr/local/lib/python3.7/dist-packages (from pandas-profiling) (0.5.1)\n",
            "Requirement already satisfied: attrs>=19.3.0 in /usr/local/lib/python3.7/dist-packages (from visions[type_image_path]==0.7.4->pandas-profiling) (21.4.0)\n",
            "Requirement already satisfied: networkx>=2.4 in /usr/local/lib/python3.7/dist-packages (from visions[type_image_path]==0.7.4->pandas-profiling) (2.6.3)\n",
            "Requirement already satisfied: imagehash in /usr/local/lib/python3.7/dist-packages (from visions[type_image_path]==0.7.4->pandas-profiling) (4.2.1)\n",
            "Requirement already satisfied: Pillow in /usr/local/lib/python3.7/dist-packages (from visions[type_image_path]==0.7.4->pandas-profiling) (7.1.2)\n",
            "Requirement already satisfied: pyparsing!=2.0.4,!=2.1.2,!=2.1.6,>=2.0.1 in /usr/local/lib/python3.7/dist-packages (from matplotlib>=3.2.0->pandas-profiling) (3.0.7)\n",
            "Requirement already satisfied: cycler>=0.10 in /usr/local/lib/python3.7/dist-packages (from matplotlib>=3.2.0->pandas-profiling) (0.11.0)\n",
            "Requirement already satisfied: python-dateutil>=2.1 in /usr/local/lib/python3.7/dist-packages (from matplotlib>=3.2.0->pandas-profiling) (2.8.2)\n",
            "Requirement already satisfied: kiwisolver>=1.0.1 in /usr/local/lib/python3.7/dist-packages (from matplotlib>=3.2.0->pandas-profiling) (1.4.0)\n",
            "Requirement already satisfied: typing-extensions in /usr/local/lib/python3.7/dist-packages (from kiwisolver>=1.0.1->matplotlib>=3.2.0->pandas-profiling) (3.10.0.2)\n",
            "Requirement already satisfied: pytz>=2017.3 in /usr/local/lib/python3.7/dist-packages (from pandas!=1.0.0,!=1.0.1,!=1.0.2,!=1.1.0,>=0.25.3->pandas-profiling) (2018.9)\n",
            "Requirement already satisfied: six>=1.5 in /usr/local/lib/python3.7/dist-packages (from python-dateutil>=2.1->matplotlib>=3.2.0->pandas-profiling) (1.15.0)\n",
            "Requirement already satisfied: certifi>=2017.4.17 in /usr/local/lib/python3.7/dist-packages (from requests>=2.24.0->pandas-profiling) (2021.10.8)\n",
            "Requirement already satisfied: urllib3<1.27,>=1.21.1 in /usr/local/lib/python3.7/dist-packages (from requests>=2.24.0->pandas-profiling) (1.24.3)\n",
            "Requirement already satisfied: idna<4,>=2.5 in /usr/local/lib/python3.7/dist-packages (from requests>=2.24.0->pandas-profiling) (2.10)\n",
            "Requirement already satisfied: charset-normalizer~=2.0.0 in /usr/local/lib/python3.7/dist-packages (from requests>=2.24.0->pandas-profiling) (2.0.12)\n",
            "Requirement already satisfied: PyWavelets in /usr/local/lib/python3.7/dist-packages (from imagehash->visions[type_image_path]==0.7.4->pandas-profiling) (1.3.0)\n"
          ]
        }
      ]
    },
    {
      "cell_type": "code",
      "execution_count": 2,
      "metadata": {
        "id": "4o6VSW4js16h"
      },
      "outputs": [],
      "source": [
        "import pandas as pd"
      ]
    },
    {
      "cell_type": "code",
      "source": [
        "import pandas as pd\n",
        "import numpy as np\n",
        "from scipy import stats\n",
        "import statistics\n",
        "import matplotlib.pyplot as plt\n",
        "import seaborn as sns\n",
        "%matplotlib inline\n",
        "from pandas_profiling import ProfileReport"
      ],
      "metadata": {
        "id": "rGqFV-tt-tlu"
      },
      "execution_count": 26,
      "outputs": []
    },
    {
      "cell_type": "markdown",
      "source": [
        "# Abrindo o dataset\n"
      ],
      "metadata": {
        "id": "MBUoK42921xH"
      }
    },
    {
      "cell_type": "code",
      "source": [
        "from google.colab import drive\n",
        "drive.mount('/content/drive')"
      ],
      "metadata": {
        "colab": {
          "base_uri": "https://localhost:8080/"
        },
        "id": "AT2IllOg27nm",
        "outputId": "0d1b6c94-df56-4a28-85e2-621d5d37dae3"
      },
      "execution_count": 4,
      "outputs": [
        {
          "output_type": "stream",
          "name": "stdout",
          "text": [
            "Drive already mounted at /content/drive; to attempt to forcibly remount, call drive.mount(\"/content/drive\", force_remount=True).\n"
          ]
        }
      ]
    },
    {
      "cell_type": "code",
      "source": [
        "df_train = pd.read_csv('/content/drive/MyDrive/AMS/classificacao_binaria_train.csv',delimiter=\";\")\n",
        "df_train.head(5)"
      ],
      "metadata": {
        "colab": {
          "base_uri": "https://localhost:8080/",
          "height": 577
        },
        "id": "dOLjLWOR3J6e",
        "outputId": "f61d81b7-458c-46a3-87a9-14718316432f"
      },
      "execution_count": 5,
      "outputs": [
        {
          "output_type": "execute_result",
          "data": {
            "text/plain": [
              "   NR_SEQ_REQUISICAO  NR_SEQ_ITEM  DT_REQUISICAO  \\\n",
              "0            1506266      4178993        2459565   \n",
              "1            1586873      4433946        2459611   \n",
              "2            1556472      4335516        2459597   \n",
              "3             943431      2331936        2459271   \n",
              "4            1107870      2865226        2459361   \n",
              "\n",
              "                                       DS_TIPO_GUIA  DT_NASCIMENTO  \\\n",
              "0                       Guia de solicitac?o SP/SADT      2437002.0   \n",
              "1  Guia de solicitac?o de prorrogac?o de internac?o      2428370.0   \n",
              "2                       Guia de solicitac?o SP/SADT      2437266.0   \n",
              "3                       Guia de solicitac?o SP/SADT      2441608.0   \n",
              "4                       Guia de solicitac?o SP/SADT      2435597.0   \n",
              "\n",
              "   NR_PRODUTO DS_TIPO_PREST_SOLICITANTE                            DS_CBO  \\\n",
              "0           1                   CLINICA        Medico oncologista clinico   \n",
              "1           1                  HOSPITAL     Medico em medicina intensiva    \n",
              "2           1         CLINICA DE IMAGEM  Medico ginecologista e obstetra    \n",
              "3           1                   CLINICA             Medico oftalmologista   \n",
              "4           1     PRESTADOR DE SERVICOS                    Medico clinico   \n",
              "\n",
              "  DS_TIPO_CONSULTA  QT_TEMPO_DOENCA  ... CD_CID  \\\n",
              "0              NaN              NaN  ...    C90   \n",
              "1              NaN              NaN  ...    NaN   \n",
              "2              NaN              NaN  ...    NaN   \n",
              "3              NaN              NaN  ...   H353   \n",
              "4              NaN              NaN  ...    NaN   \n",
              "\n",
              "                                DS_INDICACAO_CLINICA   DS_TIPO_ITEM   CD_ITEM  \\\n",
              "0          Mieloma mult e neopl malig de plasmocitos  Procedimentos  60026251   \n",
              "1  Solicitac?o de prorrogac?o de 2 diarias, refer...  Procedimentos  20203012   \n",
              "2                             PEDIDO MEDICO EM ANEXO  Procedimentos  40901300   \n",
              "3  \\nLAUDO OFTALMOLOGICO \\n\\n \\nPaciente: Patrici...  Procedimentos  30307147   \n",
              "4                                       dor cronica.  Procedimentos  41101227   \n",
              "\n",
              "                                             DS_ITEM  \\\n",
              "0  TAXA DE SALA MANIPULAC?O QUIMIOTERAPICOS ? CAPELA   \n",
              "1  ASSISTENCIA FISIATRICA RESPIRATORIA EM PACIENT...   \n",
              "2  USG - ULTRASSONOGRAFIA - TRANSVAGINAL (UTERO, ...   \n",
              "3  PCT-HM - TRATAMENTO OCULAR QUIMIOTERAPICO COM ...   \n",
              "4  RM - RESSONANCIA MAGNETICA - COLUNA CERVICAL O...   \n",
              "\n",
              "                           DS_CLASSE                          DS_SUBGRUPO  \\\n",
              "0           FORA DO CENTRO CIRURGICO                         TAXA DE SALA   \n",
              "1            REABILITAC?ES - SESS?ES  PROCEDIMENTOS CLINICOS HOSPITALARES   \n",
              "2       ULTRA-SONOGRAFIA DIAGNOSTICA                     ULTRA-SONOGRAFIA   \n",
              "3                       CORPO VITREO                                OLHOS   \n",
              "4  RESSONANCIA MAGNETICA DIAGNOSTICA                RESSONANCIA MAGNETICA   \n",
              "\n",
              "                              DS_GRUPO  QT_SOLICITADA  DS_STATUS_ITEM  \n",
              "0                                TAXAS              1      Autorizado  \n",
              "1                     PROCED. CLINICOS              6      Autorizado  \n",
              "2  PROCED. DIAGNOSTICOS E TERAPEUTICOS              1      Autorizado  \n",
              "3      PROCED. CIRURGICOS E INVASIVOS               1          Negado  \n",
              "4  PROCED. DIAGNOSTICOS E TERAPEUTICOS              2      Autorizado  \n",
              "\n",
              "[5 rows x 31 columns]"
            ],
            "text/html": [
              "\n",
              "  <div id=\"df-93d00794-59e7-4fc9-b671-2b820e80fadf\">\n",
              "    <div class=\"colab-df-container\">\n",
              "      <div>\n",
              "<style scoped>\n",
              "    .dataframe tbody tr th:only-of-type {\n",
              "        vertical-align: middle;\n",
              "    }\n",
              "\n",
              "    .dataframe tbody tr th {\n",
              "        vertical-align: top;\n",
              "    }\n",
              "\n",
              "    .dataframe thead th {\n",
              "        text-align: right;\n",
              "    }\n",
              "</style>\n",
              "<table border=\"1\" class=\"dataframe\">\n",
              "  <thead>\n",
              "    <tr style=\"text-align: right;\">\n",
              "      <th></th>\n",
              "      <th>NR_SEQ_REQUISICAO</th>\n",
              "      <th>NR_SEQ_ITEM</th>\n",
              "      <th>DT_REQUISICAO</th>\n",
              "      <th>DS_TIPO_GUIA</th>\n",
              "      <th>DT_NASCIMENTO</th>\n",
              "      <th>NR_PRODUTO</th>\n",
              "      <th>DS_TIPO_PREST_SOLICITANTE</th>\n",
              "      <th>DS_CBO</th>\n",
              "      <th>DS_TIPO_CONSULTA</th>\n",
              "      <th>QT_TEMPO_DOENCA</th>\n",
              "      <th>...</th>\n",
              "      <th>CD_CID</th>\n",
              "      <th>DS_INDICACAO_CLINICA</th>\n",
              "      <th>DS_TIPO_ITEM</th>\n",
              "      <th>CD_ITEM</th>\n",
              "      <th>DS_ITEM</th>\n",
              "      <th>DS_CLASSE</th>\n",
              "      <th>DS_SUBGRUPO</th>\n",
              "      <th>DS_GRUPO</th>\n",
              "      <th>QT_SOLICITADA</th>\n",
              "      <th>DS_STATUS_ITEM</th>\n",
              "    </tr>\n",
              "  </thead>\n",
              "  <tbody>\n",
              "    <tr>\n",
              "      <th>0</th>\n",
              "      <td>1506266</td>\n",
              "      <td>4178993</td>\n",
              "      <td>2459565</td>\n",
              "      <td>Guia de solicitac?o SP/SADT</td>\n",
              "      <td>2437002.0</td>\n",
              "      <td>1</td>\n",
              "      <td>CLINICA</td>\n",
              "      <td>Medico oncologista clinico</td>\n",
              "      <td>NaN</td>\n",
              "      <td>NaN</td>\n",
              "      <td>...</td>\n",
              "      <td>C90</td>\n",
              "      <td>Mieloma mult e neopl malig de plasmocitos</td>\n",
              "      <td>Procedimentos</td>\n",
              "      <td>60026251</td>\n",
              "      <td>TAXA DE SALA MANIPULAC?O QUIMIOTERAPICOS ? CAPELA</td>\n",
              "      <td>FORA DO CENTRO CIRURGICO</td>\n",
              "      <td>TAXA DE SALA</td>\n",
              "      <td>TAXAS</td>\n",
              "      <td>1</td>\n",
              "      <td>Autorizado</td>\n",
              "    </tr>\n",
              "    <tr>\n",
              "      <th>1</th>\n",
              "      <td>1586873</td>\n",
              "      <td>4433946</td>\n",
              "      <td>2459611</td>\n",
              "      <td>Guia de solicitac?o de prorrogac?o de internac?o</td>\n",
              "      <td>2428370.0</td>\n",
              "      <td>1</td>\n",
              "      <td>HOSPITAL</td>\n",
              "      <td>Medico em medicina intensiva</td>\n",
              "      <td>NaN</td>\n",
              "      <td>NaN</td>\n",
              "      <td>...</td>\n",
              "      <td>NaN</td>\n",
              "      <td>Solicitac?o de prorrogac?o de 2 diarias, refer...</td>\n",
              "      <td>Procedimentos</td>\n",
              "      <td>20203012</td>\n",
              "      <td>ASSISTENCIA FISIATRICA RESPIRATORIA EM PACIENT...</td>\n",
              "      <td>REABILITAC?ES - SESS?ES</td>\n",
              "      <td>PROCEDIMENTOS CLINICOS HOSPITALARES</td>\n",
              "      <td>PROCED. CLINICOS</td>\n",
              "      <td>6</td>\n",
              "      <td>Autorizado</td>\n",
              "    </tr>\n",
              "    <tr>\n",
              "      <th>2</th>\n",
              "      <td>1556472</td>\n",
              "      <td>4335516</td>\n",
              "      <td>2459597</td>\n",
              "      <td>Guia de solicitac?o SP/SADT</td>\n",
              "      <td>2437266.0</td>\n",
              "      <td>1</td>\n",
              "      <td>CLINICA DE IMAGEM</td>\n",
              "      <td>Medico ginecologista e obstetra</td>\n",
              "      <td>NaN</td>\n",
              "      <td>NaN</td>\n",
              "      <td>...</td>\n",
              "      <td>NaN</td>\n",
              "      <td>PEDIDO MEDICO EM ANEXO</td>\n",
              "      <td>Procedimentos</td>\n",
              "      <td>40901300</td>\n",
              "      <td>USG - ULTRASSONOGRAFIA - TRANSVAGINAL (UTERO, ...</td>\n",
              "      <td>ULTRA-SONOGRAFIA DIAGNOSTICA</td>\n",
              "      <td>ULTRA-SONOGRAFIA</td>\n",
              "      <td>PROCED. DIAGNOSTICOS E TERAPEUTICOS</td>\n",
              "      <td>1</td>\n",
              "      <td>Autorizado</td>\n",
              "    </tr>\n",
              "    <tr>\n",
              "      <th>3</th>\n",
              "      <td>943431</td>\n",
              "      <td>2331936</td>\n",
              "      <td>2459271</td>\n",
              "      <td>Guia de solicitac?o SP/SADT</td>\n",
              "      <td>2441608.0</td>\n",
              "      <td>1</td>\n",
              "      <td>CLINICA</td>\n",
              "      <td>Medico oftalmologista</td>\n",
              "      <td>NaN</td>\n",
              "      <td>NaN</td>\n",
              "      <td>...</td>\n",
              "      <td>H353</td>\n",
              "      <td>\\nLAUDO OFTALMOLOGICO \\n\\n \\nPaciente: Patrici...</td>\n",
              "      <td>Procedimentos</td>\n",
              "      <td>30307147</td>\n",
              "      <td>PCT-HM - TRATAMENTO OCULAR QUIMIOTERAPICO COM ...</td>\n",
              "      <td>CORPO VITREO</td>\n",
              "      <td>OLHOS</td>\n",
              "      <td>PROCED. CIRURGICOS E INVASIVOS</td>\n",
              "      <td>1</td>\n",
              "      <td>Negado</td>\n",
              "    </tr>\n",
              "    <tr>\n",
              "      <th>4</th>\n",
              "      <td>1107870</td>\n",
              "      <td>2865226</td>\n",
              "      <td>2459361</td>\n",
              "      <td>Guia de solicitac?o SP/SADT</td>\n",
              "      <td>2435597.0</td>\n",
              "      <td>1</td>\n",
              "      <td>PRESTADOR DE SERVICOS</td>\n",
              "      <td>Medico clinico</td>\n",
              "      <td>NaN</td>\n",
              "      <td>NaN</td>\n",
              "      <td>...</td>\n",
              "      <td>NaN</td>\n",
              "      <td>dor cronica.</td>\n",
              "      <td>Procedimentos</td>\n",
              "      <td>41101227</td>\n",
              "      <td>RM - RESSONANCIA MAGNETICA - COLUNA CERVICAL O...</td>\n",
              "      <td>RESSONANCIA MAGNETICA DIAGNOSTICA</td>\n",
              "      <td>RESSONANCIA MAGNETICA</td>\n",
              "      <td>PROCED. DIAGNOSTICOS E TERAPEUTICOS</td>\n",
              "      <td>2</td>\n",
              "      <td>Autorizado</td>\n",
              "    </tr>\n",
              "  </tbody>\n",
              "</table>\n",
              "<p>5 rows × 31 columns</p>\n",
              "</div>\n",
              "      <button class=\"colab-df-convert\" onclick=\"convertToInteractive('df-93d00794-59e7-4fc9-b671-2b820e80fadf')\"\n",
              "              title=\"Convert this dataframe to an interactive table.\"\n",
              "              style=\"display:none;\">\n",
              "        \n",
              "  <svg xmlns=\"http://www.w3.org/2000/svg\" height=\"24px\"viewBox=\"0 0 24 24\"\n",
              "       width=\"24px\">\n",
              "    <path d=\"M0 0h24v24H0V0z\" fill=\"none\"/>\n",
              "    <path d=\"M18.56 5.44l.94 2.06.94-2.06 2.06-.94-2.06-.94-.94-2.06-.94 2.06-2.06.94zm-11 1L8.5 8.5l.94-2.06 2.06-.94-2.06-.94L8.5 2.5l-.94 2.06-2.06.94zm10 10l.94 2.06.94-2.06 2.06-.94-2.06-.94-.94-2.06-.94 2.06-2.06.94z\"/><path d=\"M17.41 7.96l-1.37-1.37c-.4-.4-.92-.59-1.43-.59-.52 0-1.04.2-1.43.59L10.3 9.45l-7.72 7.72c-.78.78-.78 2.05 0 2.83L4 21.41c.39.39.9.59 1.41.59.51 0 1.02-.2 1.41-.59l7.78-7.78 2.81-2.81c.8-.78.8-2.07 0-2.86zM5.41 20L4 18.59l7.72-7.72 1.47 1.35L5.41 20z\"/>\n",
              "  </svg>\n",
              "      </button>\n",
              "      \n",
              "  <style>\n",
              "    .colab-df-container {\n",
              "      display:flex;\n",
              "      flex-wrap:wrap;\n",
              "      gap: 12px;\n",
              "    }\n",
              "\n",
              "    .colab-df-convert {\n",
              "      background-color: #E8F0FE;\n",
              "      border: none;\n",
              "      border-radius: 50%;\n",
              "      cursor: pointer;\n",
              "      display: none;\n",
              "      fill: #1967D2;\n",
              "      height: 32px;\n",
              "      padding: 0 0 0 0;\n",
              "      width: 32px;\n",
              "    }\n",
              "\n",
              "    .colab-df-convert:hover {\n",
              "      background-color: #E2EBFA;\n",
              "      box-shadow: 0px 1px 2px rgba(60, 64, 67, 0.3), 0px 1px 3px 1px rgba(60, 64, 67, 0.15);\n",
              "      fill: #174EA6;\n",
              "    }\n",
              "\n",
              "    [theme=dark] .colab-df-convert {\n",
              "      background-color: #3B4455;\n",
              "      fill: #D2E3FC;\n",
              "    }\n",
              "\n",
              "    [theme=dark] .colab-df-convert:hover {\n",
              "      background-color: #434B5C;\n",
              "      box-shadow: 0px 1px 3px 1px rgba(0, 0, 0, 0.15);\n",
              "      filter: drop-shadow(0px 1px 2px rgba(0, 0, 0, 0.3));\n",
              "      fill: #FFFFFF;\n",
              "    }\n",
              "  </style>\n",
              "\n",
              "      <script>\n",
              "        const buttonEl =\n",
              "          document.querySelector('#df-93d00794-59e7-4fc9-b671-2b820e80fadf button.colab-df-convert');\n",
              "        buttonEl.style.display =\n",
              "          google.colab.kernel.accessAllowed ? 'block' : 'none';\n",
              "\n",
              "        async function convertToInteractive(key) {\n",
              "          const element = document.querySelector('#df-93d00794-59e7-4fc9-b671-2b820e80fadf');\n",
              "          const dataTable =\n",
              "            await google.colab.kernel.invokeFunction('convertToInteractive',\n",
              "                                                     [key], {});\n",
              "          if (!dataTable) return;\n",
              "\n",
              "          const docLinkHtml = 'Like what you see? Visit the ' +\n",
              "            '<a target=\"_blank\" href=https://colab.research.google.com/notebooks/data_table.ipynb>data table notebook</a>'\n",
              "            + ' to learn more about interactive tables.';\n",
              "          element.innerHTML = '';\n",
              "          dataTable['output_type'] = 'display_data';\n",
              "          await google.colab.output.renderOutput(dataTable, element);\n",
              "          const docLink = document.createElement('div');\n",
              "          docLink.innerHTML = docLinkHtml;\n",
              "          element.appendChild(docLink);\n",
              "        }\n",
              "      </script>\n",
              "    </div>\n",
              "  </div>\n",
              "  "
            ]
          },
          "metadata": {},
          "execution_count": 5
        }
      ]
    },
    {
      "cell_type": "markdown",
      "source": [
        "## Analise geral dos dados"
      ],
      "metadata": {
        "id": "UeL2ftM_T31I"
      }
    },
    {
      "cell_type": "code",
      "source": [
        "df_train.info()"
      ],
      "metadata": {
        "id": "u92OqYLL6Dg9",
        "colab": {
          "base_uri": "https://localhost:8080/"
        },
        "outputId": "167da4ed-995c-42c3-e54e-81b858969c28"
      },
      "execution_count": 6,
      "outputs": [
        {
          "output_type": "stream",
          "name": "stdout",
          "text": [
            "<class 'pandas.core.frame.DataFrame'>\n",
            "RangeIndex: 412540 entries, 0 to 412539\n",
            "Data columns (total 31 columns):\n",
            " #   Column                     Non-Null Count   Dtype  \n",
            "---  ------                     --------------   -----  \n",
            " 0   NR_SEQ_REQUISICAO          412540 non-null  int64  \n",
            " 1   NR_SEQ_ITEM                412540 non-null  int64  \n",
            " 2   DT_REQUISICAO              412540 non-null  int64  \n",
            " 3   DS_TIPO_GUIA               412540 non-null  object \n",
            " 4   DT_NASCIMENTO              412529 non-null  float64\n",
            " 5   NR_PRODUTO                 412540 non-null  int64  \n",
            " 6   DS_TIPO_PREST_SOLICITANTE  412540 non-null  object \n",
            " 7   DS_CBO                     412540 non-null  object \n",
            " 8   DS_TIPO_CONSULTA           15689 non-null   object \n",
            " 9   QT_TEMPO_DOENCA            281 non-null     float64\n",
            " 10  DS_UNIDADE_TEMPO_DOENCA    282 non-null     object \n",
            " 11  DS_TIPO_DOENCA             967 non-null     object \n",
            " 12  DS_INDICACAO_ACIDENTE      380490 non-null  object \n",
            " 13  DS_TIPO_SAIDA              0 non-null       float64\n",
            " 14  DS_TIPO_INTERNACAO         121928 non-null  object \n",
            " 15  DS_REGIME_INTERNACAO       121929 non-null  object \n",
            " 16  DS_CARATER_ATENDIMENTO     412540 non-null  object \n",
            " 17  DS_TIPO_ACOMODACAO         121854 non-null  object \n",
            " 18  QT_DIA_SOLICITADO          120685 non-null  float64\n",
            " 19  CD_GUIA_REFERENCIA         70298 non-null   float64\n",
            " 20  DS_TIPO_ATENDIMENTO        291251 non-null  object \n",
            " 21  CD_CID                     177523 non-null  object \n",
            " 22  DS_INDICACAO_CLINICA       325070 non-null  object \n",
            " 23  DS_TIPO_ITEM               412540 non-null  object \n",
            " 24  CD_ITEM                    412540 non-null  int64  \n",
            " 25  DS_ITEM                    412540 non-null  object \n",
            " 26  DS_CLASSE                  412540 non-null  object \n",
            " 27  DS_SUBGRUPO                412540 non-null  object \n",
            " 28  DS_GRUPO                   412540 non-null  object \n",
            " 29  QT_SOLICITADA              412540 non-null  int64  \n",
            " 30  DS_STATUS_ITEM             412540 non-null  object \n",
            "dtypes: float64(5), int64(6), object(20)\n",
            "memory usage: 97.6+ MB\n"
          ]
        }
      ]
    },
    {
      "cell_type": "code",
      "source": [
        "variaveis_categoricas = df_train.select_dtypes(include=object).columns\n",
        "variaveis_numericas = df_train.select_dtypes(include=np.number).columns\n",
        "\n",
        "print(\"As colunas contendos variáveis categóricas são:\\n\", variaveis_categoricas, \"\\n\\nAs colunas contendos variáveis numéricas são:\\n\", variaveis_numericas)"
      ],
      "metadata": {
        "id": "GDV_6vMZAue1",
        "outputId": "307d1c4b-0cf9-4d5f-e017-02f579b13225",
        "colab": {
          "base_uri": "https://localhost:8080/"
        }
      },
      "execution_count": 7,
      "outputs": [
        {
          "output_type": "stream",
          "name": "stdout",
          "text": [
            "As colunas contendos variáveis categóricas são:\n",
            " Index(['DS_TIPO_GUIA', 'DS_TIPO_PREST_SOLICITANTE', 'DS_CBO',\n",
            "       'DS_TIPO_CONSULTA', 'DS_UNIDADE_TEMPO_DOENCA', 'DS_TIPO_DOENCA',\n",
            "       'DS_INDICACAO_ACIDENTE', 'DS_TIPO_INTERNACAO', 'DS_REGIME_INTERNACAO',\n",
            "       'DS_CARATER_ATENDIMENTO', 'DS_TIPO_ACOMODACAO', 'DS_TIPO_ATENDIMENTO',\n",
            "       'CD_CID', 'DS_INDICACAO_CLINICA', 'DS_TIPO_ITEM', 'DS_ITEM',\n",
            "       'DS_CLASSE', 'DS_SUBGRUPO', 'DS_GRUPO', 'DS_STATUS_ITEM'],\n",
            "      dtype='object') \n",
            "\n",
            "As colunas contendos variáveis numéricas são:\n",
            " Index(['NR_SEQ_REQUISICAO', 'NR_SEQ_ITEM', 'DT_REQUISICAO', 'DT_NASCIMENTO',\n",
            "       'NR_PRODUTO', 'QT_TEMPO_DOENCA', 'DS_TIPO_SAIDA', 'QT_DIA_SOLICITADO',\n",
            "       'CD_GUIA_REFERENCIA', 'CD_ITEM', 'QT_SOLICITADA'],\n",
            "      dtype='object')\n"
          ]
        }
      ]
    },
    {
      "cell_type": "code",
      "source": [
        "df_train[variaveis_numericas].describe()"
      ],
      "metadata": {
        "id": "HlVbZnovCzJu",
        "outputId": "b3a08ac6-885b-4fee-eccc-0674b9ae6487",
        "colab": {
          "base_uri": "https://localhost:8080/",
          "height": 300
        }
      },
      "execution_count": 8,
      "outputs": [
        {
          "output_type": "execute_result",
          "data": {
            "text/plain": [
              "       NR_SEQ_REQUISICAO   NR_SEQ_ITEM  DT_REQUISICAO  DT_NASCIMENTO  \\\n",
              "count       4.125400e+05  4.125400e+05   4.125400e+05   4.125290e+05   \n",
              "mean        1.151521e+06  2.626495e+06   2.459381e+06   2.439534e+06   \n",
              "std         2.889745e+05  1.179561e+06   1.533197e+02   6.849753e+03   \n",
              "min         5.796250e+05  8.231270e+05   2.459075e+06   2.421816e+06   \n",
              "25%         9.300360e+05  1.468307e+06   2.459264e+06   2.434627e+06   \n",
              "50%         1.189158e+06  2.760746e+06   2.459402e+06   2.438884e+06   \n",
              "75%         1.385720e+06  3.658920e+06   2.459506e+06   2.443453e+06   \n",
              "max         1.614682e+06  4.525999e+06   2.459622e+06   2.459562e+06   \n",
              "\n",
              "       NR_PRODUTO  QT_TEMPO_DOENCA  DS_TIPO_SAIDA  QT_DIA_SOLICITADO  \\\n",
              "count    412540.0       281.000000            0.0      120685.000000   \n",
              "mean          1.0         8.960854            NaN           2.460372   \n",
              "std           0.0        11.014045            NaN           3.703165   \n",
              "min           1.0         1.000000            NaN           0.000000   \n",
              "25%           1.0         3.000000            NaN           1.000000   \n",
              "50%           1.0         5.000000            NaN           1.000000   \n",
              "75%           1.0        11.000000            NaN           3.000000   \n",
              "max           1.0        92.000000            NaN          55.000000   \n",
              "\n",
              "       CD_GUIA_REFERENCIA       CD_ITEM  QT_SOLICITADA  \n",
              "count        7.029800e+04  4.125400e+05  412540.000000  \n",
              "mean         1.179341e+06  5.946714e+07      59.127765  \n",
              "std          2.497937e+05  2.185481e+08    4056.078153  \n",
              "min          5.797030e+05  4.200000e+01       1.000000  \n",
              "25%          9.922550e+05  2.020305e+07       1.000000  \n",
              "50%          1.186608e+06  4.070601e+07       1.000000  \n",
              "75%          1.395000e+06  4.140148e+07       2.000000  \n",
              "max          1.613675e+06  3.000079e+09  600343.000000  "
            ],
            "text/html": [
              "\n",
              "  <div id=\"df-2a543274-f452-4f3f-935f-e79234feccb4\">\n",
              "    <div class=\"colab-df-container\">\n",
              "      <div>\n",
              "<style scoped>\n",
              "    .dataframe tbody tr th:only-of-type {\n",
              "        vertical-align: middle;\n",
              "    }\n",
              "\n",
              "    .dataframe tbody tr th {\n",
              "        vertical-align: top;\n",
              "    }\n",
              "\n",
              "    .dataframe thead th {\n",
              "        text-align: right;\n",
              "    }\n",
              "</style>\n",
              "<table border=\"1\" class=\"dataframe\">\n",
              "  <thead>\n",
              "    <tr style=\"text-align: right;\">\n",
              "      <th></th>\n",
              "      <th>NR_SEQ_REQUISICAO</th>\n",
              "      <th>NR_SEQ_ITEM</th>\n",
              "      <th>DT_REQUISICAO</th>\n",
              "      <th>DT_NASCIMENTO</th>\n",
              "      <th>NR_PRODUTO</th>\n",
              "      <th>QT_TEMPO_DOENCA</th>\n",
              "      <th>DS_TIPO_SAIDA</th>\n",
              "      <th>QT_DIA_SOLICITADO</th>\n",
              "      <th>CD_GUIA_REFERENCIA</th>\n",
              "      <th>CD_ITEM</th>\n",
              "      <th>QT_SOLICITADA</th>\n",
              "    </tr>\n",
              "  </thead>\n",
              "  <tbody>\n",
              "    <tr>\n",
              "      <th>count</th>\n",
              "      <td>4.125400e+05</td>\n",
              "      <td>4.125400e+05</td>\n",
              "      <td>4.125400e+05</td>\n",
              "      <td>4.125290e+05</td>\n",
              "      <td>412540.0</td>\n",
              "      <td>281.000000</td>\n",
              "      <td>0.0</td>\n",
              "      <td>120685.000000</td>\n",
              "      <td>7.029800e+04</td>\n",
              "      <td>4.125400e+05</td>\n",
              "      <td>412540.000000</td>\n",
              "    </tr>\n",
              "    <tr>\n",
              "      <th>mean</th>\n",
              "      <td>1.151521e+06</td>\n",
              "      <td>2.626495e+06</td>\n",
              "      <td>2.459381e+06</td>\n",
              "      <td>2.439534e+06</td>\n",
              "      <td>1.0</td>\n",
              "      <td>8.960854</td>\n",
              "      <td>NaN</td>\n",
              "      <td>2.460372</td>\n",
              "      <td>1.179341e+06</td>\n",
              "      <td>5.946714e+07</td>\n",
              "      <td>59.127765</td>\n",
              "    </tr>\n",
              "    <tr>\n",
              "      <th>std</th>\n",
              "      <td>2.889745e+05</td>\n",
              "      <td>1.179561e+06</td>\n",
              "      <td>1.533197e+02</td>\n",
              "      <td>6.849753e+03</td>\n",
              "      <td>0.0</td>\n",
              "      <td>11.014045</td>\n",
              "      <td>NaN</td>\n",
              "      <td>3.703165</td>\n",
              "      <td>2.497937e+05</td>\n",
              "      <td>2.185481e+08</td>\n",
              "      <td>4056.078153</td>\n",
              "    </tr>\n",
              "    <tr>\n",
              "      <th>min</th>\n",
              "      <td>5.796250e+05</td>\n",
              "      <td>8.231270e+05</td>\n",
              "      <td>2.459075e+06</td>\n",
              "      <td>2.421816e+06</td>\n",
              "      <td>1.0</td>\n",
              "      <td>1.000000</td>\n",
              "      <td>NaN</td>\n",
              "      <td>0.000000</td>\n",
              "      <td>5.797030e+05</td>\n",
              "      <td>4.200000e+01</td>\n",
              "      <td>1.000000</td>\n",
              "    </tr>\n",
              "    <tr>\n",
              "      <th>25%</th>\n",
              "      <td>9.300360e+05</td>\n",
              "      <td>1.468307e+06</td>\n",
              "      <td>2.459264e+06</td>\n",
              "      <td>2.434627e+06</td>\n",
              "      <td>1.0</td>\n",
              "      <td>3.000000</td>\n",
              "      <td>NaN</td>\n",
              "      <td>1.000000</td>\n",
              "      <td>9.922550e+05</td>\n",
              "      <td>2.020305e+07</td>\n",
              "      <td>1.000000</td>\n",
              "    </tr>\n",
              "    <tr>\n",
              "      <th>50%</th>\n",
              "      <td>1.189158e+06</td>\n",
              "      <td>2.760746e+06</td>\n",
              "      <td>2.459402e+06</td>\n",
              "      <td>2.438884e+06</td>\n",
              "      <td>1.0</td>\n",
              "      <td>5.000000</td>\n",
              "      <td>NaN</td>\n",
              "      <td>1.000000</td>\n",
              "      <td>1.186608e+06</td>\n",
              "      <td>4.070601e+07</td>\n",
              "      <td>1.000000</td>\n",
              "    </tr>\n",
              "    <tr>\n",
              "      <th>75%</th>\n",
              "      <td>1.385720e+06</td>\n",
              "      <td>3.658920e+06</td>\n",
              "      <td>2.459506e+06</td>\n",
              "      <td>2.443453e+06</td>\n",
              "      <td>1.0</td>\n",
              "      <td>11.000000</td>\n",
              "      <td>NaN</td>\n",
              "      <td>3.000000</td>\n",
              "      <td>1.395000e+06</td>\n",
              "      <td>4.140148e+07</td>\n",
              "      <td>2.000000</td>\n",
              "    </tr>\n",
              "    <tr>\n",
              "      <th>max</th>\n",
              "      <td>1.614682e+06</td>\n",
              "      <td>4.525999e+06</td>\n",
              "      <td>2.459622e+06</td>\n",
              "      <td>2.459562e+06</td>\n",
              "      <td>1.0</td>\n",
              "      <td>92.000000</td>\n",
              "      <td>NaN</td>\n",
              "      <td>55.000000</td>\n",
              "      <td>1.613675e+06</td>\n",
              "      <td>3.000079e+09</td>\n",
              "      <td>600343.000000</td>\n",
              "    </tr>\n",
              "  </tbody>\n",
              "</table>\n",
              "</div>\n",
              "      <button class=\"colab-df-convert\" onclick=\"convertToInteractive('df-2a543274-f452-4f3f-935f-e79234feccb4')\"\n",
              "              title=\"Convert this dataframe to an interactive table.\"\n",
              "              style=\"display:none;\">\n",
              "        \n",
              "  <svg xmlns=\"http://www.w3.org/2000/svg\" height=\"24px\"viewBox=\"0 0 24 24\"\n",
              "       width=\"24px\">\n",
              "    <path d=\"M0 0h24v24H0V0z\" fill=\"none\"/>\n",
              "    <path d=\"M18.56 5.44l.94 2.06.94-2.06 2.06-.94-2.06-.94-.94-2.06-.94 2.06-2.06.94zm-11 1L8.5 8.5l.94-2.06 2.06-.94-2.06-.94L8.5 2.5l-.94 2.06-2.06.94zm10 10l.94 2.06.94-2.06 2.06-.94-2.06-.94-.94-2.06-.94 2.06-2.06.94z\"/><path d=\"M17.41 7.96l-1.37-1.37c-.4-.4-.92-.59-1.43-.59-.52 0-1.04.2-1.43.59L10.3 9.45l-7.72 7.72c-.78.78-.78 2.05 0 2.83L4 21.41c.39.39.9.59 1.41.59.51 0 1.02-.2 1.41-.59l7.78-7.78 2.81-2.81c.8-.78.8-2.07 0-2.86zM5.41 20L4 18.59l7.72-7.72 1.47 1.35L5.41 20z\"/>\n",
              "  </svg>\n",
              "      </button>\n",
              "      \n",
              "  <style>\n",
              "    .colab-df-container {\n",
              "      display:flex;\n",
              "      flex-wrap:wrap;\n",
              "      gap: 12px;\n",
              "    }\n",
              "\n",
              "    .colab-df-convert {\n",
              "      background-color: #E8F0FE;\n",
              "      border: none;\n",
              "      border-radius: 50%;\n",
              "      cursor: pointer;\n",
              "      display: none;\n",
              "      fill: #1967D2;\n",
              "      height: 32px;\n",
              "      padding: 0 0 0 0;\n",
              "      width: 32px;\n",
              "    }\n",
              "\n",
              "    .colab-df-convert:hover {\n",
              "      background-color: #E2EBFA;\n",
              "      box-shadow: 0px 1px 2px rgba(60, 64, 67, 0.3), 0px 1px 3px 1px rgba(60, 64, 67, 0.15);\n",
              "      fill: #174EA6;\n",
              "    }\n",
              "\n",
              "    [theme=dark] .colab-df-convert {\n",
              "      background-color: #3B4455;\n",
              "      fill: #D2E3FC;\n",
              "    }\n",
              "\n",
              "    [theme=dark] .colab-df-convert:hover {\n",
              "      background-color: #434B5C;\n",
              "      box-shadow: 0px 1px 3px 1px rgba(0, 0, 0, 0.15);\n",
              "      filter: drop-shadow(0px 1px 2px rgba(0, 0, 0, 0.3));\n",
              "      fill: #FFFFFF;\n",
              "    }\n",
              "  </style>\n",
              "\n",
              "      <script>\n",
              "        const buttonEl =\n",
              "          document.querySelector('#df-2a543274-f452-4f3f-935f-e79234feccb4 button.colab-df-convert');\n",
              "        buttonEl.style.display =\n",
              "          google.colab.kernel.accessAllowed ? 'block' : 'none';\n",
              "\n",
              "        async function convertToInteractive(key) {\n",
              "          const element = document.querySelector('#df-2a543274-f452-4f3f-935f-e79234feccb4');\n",
              "          const dataTable =\n",
              "            await google.colab.kernel.invokeFunction('convertToInteractive',\n",
              "                                                     [key], {});\n",
              "          if (!dataTable) return;\n",
              "\n",
              "          const docLinkHtml = 'Like what you see? Visit the ' +\n",
              "            '<a target=\"_blank\" href=https://colab.research.google.com/notebooks/data_table.ipynb>data table notebook</a>'\n",
              "            + ' to learn more about interactive tables.';\n",
              "          element.innerHTML = '';\n",
              "          dataTable['output_type'] = 'display_data';\n",
              "          await google.colab.output.renderOutput(dataTable, element);\n",
              "          const docLink = document.createElement('div');\n",
              "          docLink.innerHTML = docLinkHtml;\n",
              "          element.appendChild(docLink);\n",
              "        }\n",
              "      </script>\n",
              "    </div>\n",
              "  </div>\n",
              "  "
            ]
          },
          "metadata": {},
          "execution_count": 8
        }
      ]
    },
    {
      "cell_type": "code",
      "source": [
        "df_train[variaveis_categoricas].describe()\n"
      ],
      "metadata": {
        "colab": {
          "base_uri": "https://localhost:8080/",
          "height": 291
        },
        "id": "TeVxCJgeFvpd",
        "outputId": "ae29cd7a-b1b5-40f2-db56-66bbb670e703"
      },
      "execution_count": 9,
      "outputs": [
        {
          "output_type": "execute_result",
          "data": {
            "text/plain": [
              "                       DS_TIPO_GUIA DS_TIPO_PREST_SOLICITANTE          DS_CBO  \\\n",
              "count                        412540                    412540          412540   \n",
              "unique                            3                        12              66   \n",
              "top     Guia de solicitac?o SP/SADT                   CLINICA  Medico clinico   \n",
              "freq                         290591                    162396          110826   \n",
              "\n",
              "         DS_TIPO_CONSULTA DS_UNIDADE_TEMPO_DOENCA DS_TIPO_DOENCA  \\\n",
              "count               15689                     282            967   \n",
              "unique                  4                       3              2   \n",
              "top     Primeira consulta                    Dias          Aguda   \n",
              "freq                 8478                     105            860   \n",
              "\n",
              "       DS_INDICACAO_ACIDENTE DS_TIPO_INTERNACAO DS_REGIME_INTERNACAO  \\\n",
              "count                 380490             121928               121929   \n",
              "unique                     4                  6                    3   \n",
              "top             N?o acidente            Clinica           Hospitalar   \n",
              "freq                  319117              58383               115394   \n",
              "\n",
              "       DS_CARATER_ATENDIMENTO DS_TIPO_ACOMODACAO DS_TIPO_ATENDIMENTO  CD_CID  \\\n",
              "count                  412540             121854              291251  177523   \n",
              "unique                      2                  8                  13    1902   \n",
              "top                   Eletiva         Enfermaria              Exames     Z00   \n",
              "freq                   286714              82269              189501   15377   \n",
              "\n",
              "       DS_INDICACAO_CLINICA   DS_TIPO_ITEM     DS_ITEM      DS_CLASSE  \\\n",
              "count                325070         412540      412540         412540   \n",
              "unique                76280              2        7685            501   \n",
              "top                EM ANEXO  Procedimentos  ENFERMARIA  PROCEDIMENTOS   \n",
              "freq                   7856         335127        8170          43439   \n",
              "\n",
              "                   DS_SUBGRUPO                             DS_GRUPO  \\\n",
              "count                   412540                               412540   \n",
              "unique                      74                                    9   \n",
              "top     MEDICINA LABORATORIAL   PROCED. DIAGNOSTICOS E TERAPEUTICOS   \n",
              "freq                     62140                               196480   \n",
              "\n",
              "       DS_STATUS_ITEM  \n",
              "count          412540  \n",
              "unique              3  \n",
              "top        Autorizado  \n",
              "freq           278610  "
            ],
            "text/html": [
              "\n",
              "  <div id=\"df-ab5b38d9-2187-44e6-9f43-5244c8e89f54\">\n",
              "    <div class=\"colab-df-container\">\n",
              "      <div>\n",
              "<style scoped>\n",
              "    .dataframe tbody tr th:only-of-type {\n",
              "        vertical-align: middle;\n",
              "    }\n",
              "\n",
              "    .dataframe tbody tr th {\n",
              "        vertical-align: top;\n",
              "    }\n",
              "\n",
              "    .dataframe thead th {\n",
              "        text-align: right;\n",
              "    }\n",
              "</style>\n",
              "<table border=\"1\" class=\"dataframe\">\n",
              "  <thead>\n",
              "    <tr style=\"text-align: right;\">\n",
              "      <th></th>\n",
              "      <th>DS_TIPO_GUIA</th>\n",
              "      <th>DS_TIPO_PREST_SOLICITANTE</th>\n",
              "      <th>DS_CBO</th>\n",
              "      <th>DS_TIPO_CONSULTA</th>\n",
              "      <th>DS_UNIDADE_TEMPO_DOENCA</th>\n",
              "      <th>DS_TIPO_DOENCA</th>\n",
              "      <th>DS_INDICACAO_ACIDENTE</th>\n",
              "      <th>DS_TIPO_INTERNACAO</th>\n",
              "      <th>DS_REGIME_INTERNACAO</th>\n",
              "      <th>DS_CARATER_ATENDIMENTO</th>\n",
              "      <th>DS_TIPO_ACOMODACAO</th>\n",
              "      <th>DS_TIPO_ATENDIMENTO</th>\n",
              "      <th>CD_CID</th>\n",
              "      <th>DS_INDICACAO_CLINICA</th>\n",
              "      <th>DS_TIPO_ITEM</th>\n",
              "      <th>DS_ITEM</th>\n",
              "      <th>DS_CLASSE</th>\n",
              "      <th>DS_SUBGRUPO</th>\n",
              "      <th>DS_GRUPO</th>\n",
              "      <th>DS_STATUS_ITEM</th>\n",
              "    </tr>\n",
              "  </thead>\n",
              "  <tbody>\n",
              "    <tr>\n",
              "      <th>count</th>\n",
              "      <td>412540</td>\n",
              "      <td>412540</td>\n",
              "      <td>412540</td>\n",
              "      <td>15689</td>\n",
              "      <td>282</td>\n",
              "      <td>967</td>\n",
              "      <td>380490</td>\n",
              "      <td>121928</td>\n",
              "      <td>121929</td>\n",
              "      <td>412540</td>\n",
              "      <td>121854</td>\n",
              "      <td>291251</td>\n",
              "      <td>177523</td>\n",
              "      <td>325070</td>\n",
              "      <td>412540</td>\n",
              "      <td>412540</td>\n",
              "      <td>412540</td>\n",
              "      <td>412540</td>\n",
              "      <td>412540</td>\n",
              "      <td>412540</td>\n",
              "    </tr>\n",
              "    <tr>\n",
              "      <th>unique</th>\n",
              "      <td>3</td>\n",
              "      <td>12</td>\n",
              "      <td>66</td>\n",
              "      <td>4</td>\n",
              "      <td>3</td>\n",
              "      <td>2</td>\n",
              "      <td>4</td>\n",
              "      <td>6</td>\n",
              "      <td>3</td>\n",
              "      <td>2</td>\n",
              "      <td>8</td>\n",
              "      <td>13</td>\n",
              "      <td>1902</td>\n",
              "      <td>76280</td>\n",
              "      <td>2</td>\n",
              "      <td>7685</td>\n",
              "      <td>501</td>\n",
              "      <td>74</td>\n",
              "      <td>9</td>\n",
              "      <td>3</td>\n",
              "    </tr>\n",
              "    <tr>\n",
              "      <th>top</th>\n",
              "      <td>Guia de solicitac?o SP/SADT</td>\n",
              "      <td>CLINICA</td>\n",
              "      <td>Medico clinico</td>\n",
              "      <td>Primeira consulta</td>\n",
              "      <td>Dias</td>\n",
              "      <td>Aguda</td>\n",
              "      <td>N?o acidente</td>\n",
              "      <td>Clinica</td>\n",
              "      <td>Hospitalar</td>\n",
              "      <td>Eletiva</td>\n",
              "      <td>Enfermaria</td>\n",
              "      <td>Exames</td>\n",
              "      <td>Z00</td>\n",
              "      <td>EM ANEXO</td>\n",
              "      <td>Procedimentos</td>\n",
              "      <td>ENFERMARIA</td>\n",
              "      <td>PROCEDIMENTOS</td>\n",
              "      <td>MEDICINA LABORATORIAL</td>\n",
              "      <td>PROCED. DIAGNOSTICOS E TERAPEUTICOS</td>\n",
              "      <td>Autorizado</td>\n",
              "    </tr>\n",
              "    <tr>\n",
              "      <th>freq</th>\n",
              "      <td>290591</td>\n",
              "      <td>162396</td>\n",
              "      <td>110826</td>\n",
              "      <td>8478</td>\n",
              "      <td>105</td>\n",
              "      <td>860</td>\n",
              "      <td>319117</td>\n",
              "      <td>58383</td>\n",
              "      <td>115394</td>\n",
              "      <td>286714</td>\n",
              "      <td>82269</td>\n",
              "      <td>189501</td>\n",
              "      <td>15377</td>\n",
              "      <td>7856</td>\n",
              "      <td>335127</td>\n",
              "      <td>8170</td>\n",
              "      <td>43439</td>\n",
              "      <td>62140</td>\n",
              "      <td>196480</td>\n",
              "      <td>278610</td>\n",
              "    </tr>\n",
              "  </tbody>\n",
              "</table>\n",
              "</div>\n",
              "      <button class=\"colab-df-convert\" onclick=\"convertToInteractive('df-ab5b38d9-2187-44e6-9f43-5244c8e89f54')\"\n",
              "              title=\"Convert this dataframe to an interactive table.\"\n",
              "              style=\"display:none;\">\n",
              "        \n",
              "  <svg xmlns=\"http://www.w3.org/2000/svg\" height=\"24px\"viewBox=\"0 0 24 24\"\n",
              "       width=\"24px\">\n",
              "    <path d=\"M0 0h24v24H0V0z\" fill=\"none\"/>\n",
              "    <path d=\"M18.56 5.44l.94 2.06.94-2.06 2.06-.94-2.06-.94-.94-2.06-.94 2.06-2.06.94zm-11 1L8.5 8.5l.94-2.06 2.06-.94-2.06-.94L8.5 2.5l-.94 2.06-2.06.94zm10 10l.94 2.06.94-2.06 2.06-.94-2.06-.94-.94-2.06-.94 2.06-2.06.94z\"/><path d=\"M17.41 7.96l-1.37-1.37c-.4-.4-.92-.59-1.43-.59-.52 0-1.04.2-1.43.59L10.3 9.45l-7.72 7.72c-.78.78-.78 2.05 0 2.83L4 21.41c.39.39.9.59 1.41.59.51 0 1.02-.2 1.41-.59l7.78-7.78 2.81-2.81c.8-.78.8-2.07 0-2.86zM5.41 20L4 18.59l7.72-7.72 1.47 1.35L5.41 20z\"/>\n",
              "  </svg>\n",
              "      </button>\n",
              "      \n",
              "  <style>\n",
              "    .colab-df-container {\n",
              "      display:flex;\n",
              "      flex-wrap:wrap;\n",
              "      gap: 12px;\n",
              "    }\n",
              "\n",
              "    .colab-df-convert {\n",
              "      background-color: #E8F0FE;\n",
              "      border: none;\n",
              "      border-radius: 50%;\n",
              "      cursor: pointer;\n",
              "      display: none;\n",
              "      fill: #1967D2;\n",
              "      height: 32px;\n",
              "      padding: 0 0 0 0;\n",
              "      width: 32px;\n",
              "    }\n",
              "\n",
              "    .colab-df-convert:hover {\n",
              "      background-color: #E2EBFA;\n",
              "      box-shadow: 0px 1px 2px rgba(60, 64, 67, 0.3), 0px 1px 3px 1px rgba(60, 64, 67, 0.15);\n",
              "      fill: #174EA6;\n",
              "    }\n",
              "\n",
              "    [theme=dark] .colab-df-convert {\n",
              "      background-color: #3B4455;\n",
              "      fill: #D2E3FC;\n",
              "    }\n",
              "\n",
              "    [theme=dark] .colab-df-convert:hover {\n",
              "      background-color: #434B5C;\n",
              "      box-shadow: 0px 1px 3px 1px rgba(0, 0, 0, 0.15);\n",
              "      filter: drop-shadow(0px 1px 2px rgba(0, 0, 0, 0.3));\n",
              "      fill: #FFFFFF;\n",
              "    }\n",
              "  </style>\n",
              "\n",
              "      <script>\n",
              "        const buttonEl =\n",
              "          document.querySelector('#df-ab5b38d9-2187-44e6-9f43-5244c8e89f54 button.colab-df-convert');\n",
              "        buttonEl.style.display =\n",
              "          google.colab.kernel.accessAllowed ? 'block' : 'none';\n",
              "\n",
              "        async function convertToInteractive(key) {\n",
              "          const element = document.querySelector('#df-ab5b38d9-2187-44e6-9f43-5244c8e89f54');\n",
              "          const dataTable =\n",
              "            await google.colab.kernel.invokeFunction('convertToInteractive',\n",
              "                                                     [key], {});\n",
              "          if (!dataTable) return;\n",
              "\n",
              "          const docLinkHtml = 'Like what you see? Visit the ' +\n",
              "            '<a target=\"_blank\" href=https://colab.research.google.com/notebooks/data_table.ipynb>data table notebook</a>'\n",
              "            + ' to learn more about interactive tables.';\n",
              "          element.innerHTML = '';\n",
              "          dataTable['output_type'] = 'display_data';\n",
              "          await google.colab.output.renderOutput(dataTable, element);\n",
              "          const docLink = document.createElement('div');\n",
              "          docLink.innerHTML = docLinkHtml;\n",
              "          element.appendChild(docLink);\n",
              "        }\n",
              "      </script>\n",
              "    </div>\n",
              "  </div>\n",
              "  "
            ]
          },
          "metadata": {},
          "execution_count": 9
        }
      ]
    },
    {
      "cell_type": "markdown",
      "source": [
        "##Identificação e tratamendo de variáveis categóricas"
      ],
      "metadata": {
        "id": "4q-qDEGkcASt"
      }
    },
    {
      "cell_type": "code",
      "source": [
        "df_train[r'DT_NASCIMENTO'].plot.hist()\n",
        "plt.show()"
      ],
      "metadata": {
        "id": "wU9GOmtROGZq"
      },
      "execution_count": 10,
      "outputs": []
    },
    {
      "cell_type": "code",
      "source": [
        "df_train[variaveis_numericas].boxplot()\n",
        "plt.show()"
      ],
      "metadata": {
        "colab": {
          "base_uri": "https://localhost:8080/"
        },
        "id": "qIXJL2TSU4aq",
        "outputId": "6389899b-fc83-4f3d-c97d-b73f844fc5c2"
      },
      "execution_count": 11,
      "outputs": [
        {
          "output_type": "stream",
          "name": "stderr",
          "text": [
            "/usr/local/lib/python3.7/dist-packages/matplotlib/cbook/__init__.py:1376: VisibleDeprecationWarning: Creating an ndarray from ragged nested sequences (which is a list-or-tuple of lists-or-tuples-or ndarrays with different lengths or shapes) is deprecated. If you meant to do this, you must specify 'dtype=object' when creating the ndarray.\n",
            "  X = np.atleast_1d(X.T if isinstance(X, np.ndarray) else np.asarray(X))\n"
          ]
        }
      ]
    },
    {
      "cell_type": "code",
      "source": [
        "covariancia = df_train.cov()\n",
        "covariancia"
      ],
      "metadata": {
        "id": "vMO6YIlKHcIP",
        "outputId": "dcac4aaf-67fd-49d7-fea5-6504ebdfc20b",
        "colab": {
          "base_uri": "https://localhost:8080/",
          "height": 394
        }
      },
      "execution_count": 12,
      "outputs": [
        {
          "output_type": "execute_result",
          "data": {
            "text/plain": [
              "                    NR_SEQ_REQUISICAO   NR_SEQ_ITEM  DT_REQUISICAO  \\\n",
              "NR_SEQ_REQUISICAO        8.350625e+10  2.198297e+11   4.429853e+07   \n",
              "NR_SEQ_ITEM              2.198297e+11  1.391365e+12   1.166202e+08   \n",
              "DT_REQUISICAO            4.429853e+07  1.166202e+08   2.350694e+04   \n",
              "DT_NASCIMENTO           -9.814217e+07  2.104799e+08  -5.202080e+04   \n",
              "NR_PRODUTO               0.000000e+00  0.000000e+00   0.000000e+00   \n",
              "QT_TEMPO_DOENCA          9.946441e+05  2.171141e+06   5.429492e+02   \n",
              "DS_TIPO_SAIDA                     NaN           NaN            NaN   \n",
              "QT_DIA_SOLICITADO       -1.974134e+04  6.301037e+04  -9.720517e+00   \n",
              "CD_GUIA_REFERENCIA       5.799664e+10  1.596343e+11   3.047463e+07   \n",
              "CD_ITEM                  1.033568e+12 -2.947608e+13   5.494674e+08   \n",
              "QT_SOLICITADA            3.485632e+05 -6.451957e+06   1.997799e+02   \n",
              "\n",
              "                    DT_NASCIMENTO  NR_PRODUTO  QT_TEMPO_DOENCA  DS_TIPO_SAIDA  \\\n",
              "NR_SEQ_REQUISICAO   -9.814217e+07         0.0     9.946441e+05            NaN   \n",
              "NR_SEQ_ITEM          2.104799e+08         0.0     2.171141e+06            NaN   \n",
              "DT_REQUISICAO       -5.202080e+04         0.0     5.429492e+02            NaN   \n",
              "DT_NASCIMENTO        4.691912e+07         0.0    -1.014247e+04            NaN   \n",
              "NR_PRODUTO           0.000000e+00         0.0     0.000000e+00            NaN   \n",
              "QT_TEMPO_DOENCA     -1.014247e+04         0.0     1.213092e+02            NaN   \n",
              "DS_TIPO_SAIDA                 NaN         NaN              NaN            NaN   \n",
              "QT_DIA_SOLICITADO   -2.847521e+03         0.0     7.276216e+01            NaN   \n",
              "CD_GUIA_REFERENCIA  -9.893611e+07         0.0    -2.037133e+04            NaN   \n",
              "CD_ITEM             -4.673252e+10         0.0     1.338072e+08            NaN   \n",
              "QT_SOLICITADA        1.250006e+05         0.0     5.236613e+02            NaN   \n",
              "\n",
              "                    QT_DIA_SOLICITADO  CD_GUIA_REFERENCIA       CD_ITEM  \\\n",
              "NR_SEQ_REQUISICAO       -1.974134e+04        5.799664e+10  1.033568e+12   \n",
              "NR_SEQ_ITEM              6.301037e+04        1.596343e+11 -2.947608e+13   \n",
              "DT_REQUISICAO           -9.720517e+00        3.047463e+07  5.494674e+08   \n",
              "DT_NASCIMENTO           -2.847521e+03       -9.893611e+07 -4.673252e+10   \n",
              "NR_PRODUTO               0.000000e+00        0.000000e+00  0.000000e+00   \n",
              "QT_TEMPO_DOENCA          7.276216e+01       -2.037133e+04  1.338072e+08   \n",
              "DS_TIPO_SAIDA                     NaN                 NaN           NaN   \n",
              "QT_DIA_SOLICITADO        1.371343e+01       -8.789232e+04  9.556364e+06   \n",
              "CD_GUIA_REFERENCIA      -8.789232e+04        6.239688e+10 -1.098621e+12   \n",
              "CD_ITEM                  9.556364e+06       -1.098621e+12  4.776327e+16   \n",
              "QT_SOLICITADA            2.600703e+01       -1.718676e+06  3.585695e+09   \n",
              "\n",
              "                    QT_SOLICITADA  \n",
              "NR_SEQ_REQUISICAO    3.485632e+05  \n",
              "NR_SEQ_ITEM         -6.451957e+06  \n",
              "DT_REQUISICAO        1.997799e+02  \n",
              "DT_NASCIMENTO        1.250006e+05  \n",
              "NR_PRODUTO           0.000000e+00  \n",
              "QT_TEMPO_DOENCA      5.236613e+02  \n",
              "DS_TIPO_SAIDA                 NaN  \n",
              "QT_DIA_SOLICITADO    2.600703e+01  \n",
              "CD_GUIA_REFERENCIA  -1.718676e+06  \n",
              "CD_ITEM              3.585695e+09  \n",
              "QT_SOLICITADA        1.645177e+07  "
            ],
            "text/html": [
              "\n",
              "  <div id=\"df-abd7d6d4-7d50-4ad1-a5b8-e8b9e38fca55\">\n",
              "    <div class=\"colab-df-container\">\n",
              "      <div>\n",
              "<style scoped>\n",
              "    .dataframe tbody tr th:only-of-type {\n",
              "        vertical-align: middle;\n",
              "    }\n",
              "\n",
              "    .dataframe tbody tr th {\n",
              "        vertical-align: top;\n",
              "    }\n",
              "\n",
              "    .dataframe thead th {\n",
              "        text-align: right;\n",
              "    }\n",
              "</style>\n",
              "<table border=\"1\" class=\"dataframe\">\n",
              "  <thead>\n",
              "    <tr style=\"text-align: right;\">\n",
              "      <th></th>\n",
              "      <th>NR_SEQ_REQUISICAO</th>\n",
              "      <th>NR_SEQ_ITEM</th>\n",
              "      <th>DT_REQUISICAO</th>\n",
              "      <th>DT_NASCIMENTO</th>\n",
              "      <th>NR_PRODUTO</th>\n",
              "      <th>QT_TEMPO_DOENCA</th>\n",
              "      <th>DS_TIPO_SAIDA</th>\n",
              "      <th>QT_DIA_SOLICITADO</th>\n",
              "      <th>CD_GUIA_REFERENCIA</th>\n",
              "      <th>CD_ITEM</th>\n",
              "      <th>QT_SOLICITADA</th>\n",
              "    </tr>\n",
              "  </thead>\n",
              "  <tbody>\n",
              "    <tr>\n",
              "      <th>NR_SEQ_REQUISICAO</th>\n",
              "      <td>8.350625e+10</td>\n",
              "      <td>2.198297e+11</td>\n",
              "      <td>4.429853e+07</td>\n",
              "      <td>-9.814217e+07</td>\n",
              "      <td>0.0</td>\n",
              "      <td>9.946441e+05</td>\n",
              "      <td>NaN</td>\n",
              "      <td>-1.974134e+04</td>\n",
              "      <td>5.799664e+10</td>\n",
              "      <td>1.033568e+12</td>\n",
              "      <td>3.485632e+05</td>\n",
              "    </tr>\n",
              "    <tr>\n",
              "      <th>NR_SEQ_ITEM</th>\n",
              "      <td>2.198297e+11</td>\n",
              "      <td>1.391365e+12</td>\n",
              "      <td>1.166202e+08</td>\n",
              "      <td>2.104799e+08</td>\n",
              "      <td>0.0</td>\n",
              "      <td>2.171141e+06</td>\n",
              "      <td>NaN</td>\n",
              "      <td>6.301037e+04</td>\n",
              "      <td>1.596343e+11</td>\n",
              "      <td>-2.947608e+13</td>\n",
              "      <td>-6.451957e+06</td>\n",
              "    </tr>\n",
              "    <tr>\n",
              "      <th>DT_REQUISICAO</th>\n",
              "      <td>4.429853e+07</td>\n",
              "      <td>1.166202e+08</td>\n",
              "      <td>2.350694e+04</td>\n",
              "      <td>-5.202080e+04</td>\n",
              "      <td>0.0</td>\n",
              "      <td>5.429492e+02</td>\n",
              "      <td>NaN</td>\n",
              "      <td>-9.720517e+00</td>\n",
              "      <td>3.047463e+07</td>\n",
              "      <td>5.494674e+08</td>\n",
              "      <td>1.997799e+02</td>\n",
              "    </tr>\n",
              "    <tr>\n",
              "      <th>DT_NASCIMENTO</th>\n",
              "      <td>-9.814217e+07</td>\n",
              "      <td>2.104799e+08</td>\n",
              "      <td>-5.202080e+04</td>\n",
              "      <td>4.691912e+07</td>\n",
              "      <td>0.0</td>\n",
              "      <td>-1.014247e+04</td>\n",
              "      <td>NaN</td>\n",
              "      <td>-2.847521e+03</td>\n",
              "      <td>-9.893611e+07</td>\n",
              "      <td>-4.673252e+10</td>\n",
              "      <td>1.250006e+05</td>\n",
              "    </tr>\n",
              "    <tr>\n",
              "      <th>NR_PRODUTO</th>\n",
              "      <td>0.000000e+00</td>\n",
              "      <td>0.000000e+00</td>\n",
              "      <td>0.000000e+00</td>\n",
              "      <td>0.000000e+00</td>\n",
              "      <td>0.0</td>\n",
              "      <td>0.000000e+00</td>\n",
              "      <td>NaN</td>\n",
              "      <td>0.000000e+00</td>\n",
              "      <td>0.000000e+00</td>\n",
              "      <td>0.000000e+00</td>\n",
              "      <td>0.000000e+00</td>\n",
              "    </tr>\n",
              "    <tr>\n",
              "      <th>QT_TEMPO_DOENCA</th>\n",
              "      <td>9.946441e+05</td>\n",
              "      <td>2.171141e+06</td>\n",
              "      <td>5.429492e+02</td>\n",
              "      <td>-1.014247e+04</td>\n",
              "      <td>0.0</td>\n",
              "      <td>1.213092e+02</td>\n",
              "      <td>NaN</td>\n",
              "      <td>7.276216e+01</td>\n",
              "      <td>-2.037133e+04</td>\n",
              "      <td>1.338072e+08</td>\n",
              "      <td>5.236613e+02</td>\n",
              "    </tr>\n",
              "    <tr>\n",
              "      <th>DS_TIPO_SAIDA</th>\n",
              "      <td>NaN</td>\n",
              "      <td>NaN</td>\n",
              "      <td>NaN</td>\n",
              "      <td>NaN</td>\n",
              "      <td>NaN</td>\n",
              "      <td>NaN</td>\n",
              "      <td>NaN</td>\n",
              "      <td>NaN</td>\n",
              "      <td>NaN</td>\n",
              "      <td>NaN</td>\n",
              "      <td>NaN</td>\n",
              "    </tr>\n",
              "    <tr>\n",
              "      <th>QT_DIA_SOLICITADO</th>\n",
              "      <td>-1.974134e+04</td>\n",
              "      <td>6.301037e+04</td>\n",
              "      <td>-9.720517e+00</td>\n",
              "      <td>-2.847521e+03</td>\n",
              "      <td>0.0</td>\n",
              "      <td>7.276216e+01</td>\n",
              "      <td>NaN</td>\n",
              "      <td>1.371343e+01</td>\n",
              "      <td>-8.789232e+04</td>\n",
              "      <td>9.556364e+06</td>\n",
              "      <td>2.600703e+01</td>\n",
              "    </tr>\n",
              "    <tr>\n",
              "      <th>CD_GUIA_REFERENCIA</th>\n",
              "      <td>5.799664e+10</td>\n",
              "      <td>1.596343e+11</td>\n",
              "      <td>3.047463e+07</td>\n",
              "      <td>-9.893611e+07</td>\n",
              "      <td>0.0</td>\n",
              "      <td>-2.037133e+04</td>\n",
              "      <td>NaN</td>\n",
              "      <td>-8.789232e+04</td>\n",
              "      <td>6.239688e+10</td>\n",
              "      <td>-1.098621e+12</td>\n",
              "      <td>-1.718676e+06</td>\n",
              "    </tr>\n",
              "    <tr>\n",
              "      <th>CD_ITEM</th>\n",
              "      <td>1.033568e+12</td>\n",
              "      <td>-2.947608e+13</td>\n",
              "      <td>5.494674e+08</td>\n",
              "      <td>-4.673252e+10</td>\n",
              "      <td>0.0</td>\n",
              "      <td>1.338072e+08</td>\n",
              "      <td>NaN</td>\n",
              "      <td>9.556364e+06</td>\n",
              "      <td>-1.098621e+12</td>\n",
              "      <td>4.776327e+16</td>\n",
              "      <td>3.585695e+09</td>\n",
              "    </tr>\n",
              "    <tr>\n",
              "      <th>QT_SOLICITADA</th>\n",
              "      <td>3.485632e+05</td>\n",
              "      <td>-6.451957e+06</td>\n",
              "      <td>1.997799e+02</td>\n",
              "      <td>1.250006e+05</td>\n",
              "      <td>0.0</td>\n",
              "      <td>5.236613e+02</td>\n",
              "      <td>NaN</td>\n",
              "      <td>2.600703e+01</td>\n",
              "      <td>-1.718676e+06</td>\n",
              "      <td>3.585695e+09</td>\n",
              "      <td>1.645177e+07</td>\n",
              "    </tr>\n",
              "  </tbody>\n",
              "</table>\n",
              "</div>\n",
              "      <button class=\"colab-df-convert\" onclick=\"convertToInteractive('df-abd7d6d4-7d50-4ad1-a5b8-e8b9e38fca55')\"\n",
              "              title=\"Convert this dataframe to an interactive table.\"\n",
              "              style=\"display:none;\">\n",
              "        \n",
              "  <svg xmlns=\"http://www.w3.org/2000/svg\" height=\"24px\"viewBox=\"0 0 24 24\"\n",
              "       width=\"24px\">\n",
              "    <path d=\"M0 0h24v24H0V0z\" fill=\"none\"/>\n",
              "    <path d=\"M18.56 5.44l.94 2.06.94-2.06 2.06-.94-2.06-.94-.94-2.06-.94 2.06-2.06.94zm-11 1L8.5 8.5l.94-2.06 2.06-.94-2.06-.94L8.5 2.5l-.94 2.06-2.06.94zm10 10l.94 2.06.94-2.06 2.06-.94-2.06-.94-.94-2.06-.94 2.06-2.06.94z\"/><path d=\"M17.41 7.96l-1.37-1.37c-.4-.4-.92-.59-1.43-.59-.52 0-1.04.2-1.43.59L10.3 9.45l-7.72 7.72c-.78.78-.78 2.05 0 2.83L4 21.41c.39.39.9.59 1.41.59.51 0 1.02-.2 1.41-.59l7.78-7.78 2.81-2.81c.8-.78.8-2.07 0-2.86zM5.41 20L4 18.59l7.72-7.72 1.47 1.35L5.41 20z\"/>\n",
              "  </svg>\n",
              "      </button>\n",
              "      \n",
              "  <style>\n",
              "    .colab-df-container {\n",
              "      display:flex;\n",
              "      flex-wrap:wrap;\n",
              "      gap: 12px;\n",
              "    }\n",
              "\n",
              "    .colab-df-convert {\n",
              "      background-color: #E8F0FE;\n",
              "      border: none;\n",
              "      border-radius: 50%;\n",
              "      cursor: pointer;\n",
              "      display: none;\n",
              "      fill: #1967D2;\n",
              "      height: 32px;\n",
              "      padding: 0 0 0 0;\n",
              "      width: 32px;\n",
              "    }\n",
              "\n",
              "    .colab-df-convert:hover {\n",
              "      background-color: #E2EBFA;\n",
              "      box-shadow: 0px 1px 2px rgba(60, 64, 67, 0.3), 0px 1px 3px 1px rgba(60, 64, 67, 0.15);\n",
              "      fill: #174EA6;\n",
              "    }\n",
              "\n",
              "    [theme=dark] .colab-df-convert {\n",
              "      background-color: #3B4455;\n",
              "      fill: #D2E3FC;\n",
              "    }\n",
              "\n",
              "    [theme=dark] .colab-df-convert:hover {\n",
              "      background-color: #434B5C;\n",
              "      box-shadow: 0px 1px 3px 1px rgba(0, 0, 0, 0.15);\n",
              "      filter: drop-shadow(0px 1px 2px rgba(0, 0, 0, 0.3));\n",
              "      fill: #FFFFFF;\n",
              "    }\n",
              "  </style>\n",
              "\n",
              "      <script>\n",
              "        const buttonEl =\n",
              "          document.querySelector('#df-abd7d6d4-7d50-4ad1-a5b8-e8b9e38fca55 button.colab-df-convert');\n",
              "        buttonEl.style.display =\n",
              "          google.colab.kernel.accessAllowed ? 'block' : 'none';\n",
              "\n",
              "        async function convertToInteractive(key) {\n",
              "          const element = document.querySelector('#df-abd7d6d4-7d50-4ad1-a5b8-e8b9e38fca55');\n",
              "          const dataTable =\n",
              "            await google.colab.kernel.invokeFunction('convertToInteractive',\n",
              "                                                     [key], {});\n",
              "          if (!dataTable) return;\n",
              "\n",
              "          const docLinkHtml = 'Like what you see? Visit the ' +\n",
              "            '<a target=\"_blank\" href=https://colab.research.google.com/notebooks/data_table.ipynb>data table notebook</a>'\n",
              "            + ' to learn more about interactive tables.';\n",
              "          element.innerHTML = '';\n",
              "          dataTable['output_type'] = 'display_data';\n",
              "          await google.colab.output.renderOutput(dataTable, element);\n",
              "          const docLink = document.createElement('div');\n",
              "          docLink.innerHTML = docLinkHtml;\n",
              "          element.appendChild(docLink);\n",
              "        }\n",
              "      </script>\n",
              "    </div>\n",
              "  </div>\n",
              "  "
            ]
          },
          "metadata": {},
          "execution_count": 12
        }
      ]
    },
    {
      "cell_type": "markdown",
      "source": [
        "## Lidando com valores nulos - By: Mariana\n"
      ],
      "metadata": {
        "id": "29myWmcUR8XP"
      }
    },
    {
      "cell_type": "code",
      "source": [
        "# Quantos valores nulos tem em cada feature?\n",
        "for i in range(0, len(df_train.columns)):\n",
        "  print(\"Na feature '\", df_train.columns[i],\n",
        "        \"' temos \", df_train[df_train.columns[i]].isnull().sum(),\n",
        "        \" valores nulos de um total de \" ,\n",
        "        df_train[df_train.columns[i]].value_counts(dropna=False).sum(),\n",
        "        \"amostras, isto é, \",\n",
        "        \"{:.2f}\".format((df_train[df_train.columns[i]].isnull().sum()/df_train[df_train.columns[i]].value_counts(dropna=False).sum())*100), \"%\")"
      ],
      "metadata": {
        "colab": {
          "base_uri": "https://localhost:8080/"
        },
        "id": "Uo1rvEBpVLtP",
        "outputId": "cf1a547b-8510-43db-b3f3-888702978a66"
      },
      "execution_count": 13,
      "outputs": [
        {
          "output_type": "stream",
          "name": "stdout",
          "text": [
            "Na feature ' NR_SEQ_REQUISICAO ' temos  0  valores nulos de um total de  412540 amostras, isto é,  0.00 %\n",
            "Na feature ' NR_SEQ_ITEM ' temos  0  valores nulos de um total de  412540 amostras, isto é,  0.00 %\n",
            "Na feature ' DT_REQUISICAO ' temos  0  valores nulos de um total de  412540 amostras, isto é,  0.00 %\n",
            "Na feature ' DS_TIPO_GUIA ' temos  0  valores nulos de um total de  412540 amostras, isto é,  0.00 %\n",
            "Na feature ' DT_NASCIMENTO ' temos  11  valores nulos de um total de  412540 amostras, isto é,  0.00 %\n",
            "Na feature ' NR_PRODUTO ' temos  0  valores nulos de um total de  412540 amostras, isto é,  0.00 %\n",
            "Na feature ' DS_TIPO_PREST_SOLICITANTE ' temos  0  valores nulos de um total de  412540 amostras, isto é,  0.00 %\n",
            "Na feature ' DS_CBO ' temos  0  valores nulos de um total de  412540 amostras, isto é,  0.00 %\n",
            "Na feature ' DS_TIPO_CONSULTA ' temos  396851  valores nulos de um total de  412540 amostras, isto é,  96.20 %\n",
            "Na feature ' QT_TEMPO_DOENCA ' temos  412259  valores nulos de um total de  412540 amostras, isto é,  99.93 %\n",
            "Na feature ' DS_UNIDADE_TEMPO_DOENCA ' temos  412258  valores nulos de um total de  412540 amostras, isto é,  99.93 %\n",
            "Na feature ' DS_TIPO_DOENCA ' temos  411573  valores nulos de um total de  412540 amostras, isto é,  99.77 %\n",
            "Na feature ' DS_INDICACAO_ACIDENTE ' temos  32050  valores nulos de um total de  412540 amostras, isto é,  7.77 %\n",
            "Na feature ' DS_TIPO_SAIDA ' temos  412540  valores nulos de um total de  412540 amostras, isto é,  100.00 %\n",
            "Na feature ' DS_TIPO_INTERNACAO ' temos  290612  valores nulos de um total de  412540 amostras, isto é,  70.44 %\n",
            "Na feature ' DS_REGIME_INTERNACAO ' temos  290611  valores nulos de um total de  412540 amostras, isto é,  70.44 %\n",
            "Na feature ' DS_CARATER_ATENDIMENTO ' temos  0  valores nulos de um total de  412540 amostras, isto é,  0.00 %\n",
            "Na feature ' DS_TIPO_ACOMODACAO ' temos  290686  valores nulos de um total de  412540 amostras, isto é,  70.46 %\n",
            "Na feature ' QT_DIA_SOLICITADO ' temos  291855  valores nulos de um total de  412540 amostras, isto é,  70.75 %\n",
            "Na feature ' CD_GUIA_REFERENCIA ' temos  342242  valores nulos de um total de  412540 amostras, isto é,  82.96 %\n",
            "Na feature ' DS_TIPO_ATENDIMENTO ' temos  121289  valores nulos de um total de  412540 amostras, isto é,  29.40 %\n",
            "Na feature ' CD_CID ' temos  235017  valores nulos de um total de  412540 amostras, isto é,  56.97 %\n",
            "Na feature ' DS_INDICACAO_CLINICA ' temos  87470  valores nulos de um total de  412540 amostras, isto é,  21.20 %\n",
            "Na feature ' DS_TIPO_ITEM ' temos  0  valores nulos de um total de  412540 amostras, isto é,  0.00 %\n",
            "Na feature ' CD_ITEM ' temos  0  valores nulos de um total de  412540 amostras, isto é,  0.00 %\n",
            "Na feature ' DS_ITEM ' temos  0  valores nulos de um total de  412540 amostras, isto é,  0.00 %\n",
            "Na feature ' DS_CLASSE ' temos  0  valores nulos de um total de  412540 amostras, isto é,  0.00 %\n",
            "Na feature ' DS_SUBGRUPO ' temos  0  valores nulos de um total de  412540 amostras, isto é,  0.00 %\n",
            "Na feature ' DS_GRUPO ' temos  0  valores nulos de um total de  412540 amostras, isto é,  0.00 %\n",
            "Na feature ' QT_SOLICITADA ' temos  0  valores nulos de um total de  412540 amostras, isto é,  0.00 %\n",
            "Na feature ' DS_STATUS_ITEM ' temos  0  valores nulos de um total de  412540 amostras, isto é,  0.00 %\n"
          ]
        }
      ]
    },
    {
      "cell_type": "markdown",
      "source": [
        "Features com valores nulos acima de 90% serão descartas. No caso:\n"
      ],
      "metadata": {
        "id": "x88DJx3OcMYd"
      }
    },
    {
      "cell_type": "code",
      "source": [
        "porcentagem_corte_nulo = 90\n",
        "drop_columns = []\n",
        "\n",
        "print(\"As seguintes features seguidas da porcentagem de valores nulos nas amostras serão eliminadas: \")\n",
        "for i in range(len(df_train.columns)):\n",
        "  if(((df_train[df_train.columns[i]].isnull().sum()/df_train[df_train.columns[i]].value_counts(dropna=False).sum())*100) > porcentagem_corte_nulo):\n",
        "    print(df_train.columns[i],\n",
        "          \" (\", \"{:.2f}\".format((df_train[df_train.columns[i]].isnull().sum()/df_train[df_train.columns[i]].value_counts(dropna=False).sum())*100), \"% )\")\n",
        "    drop_columns.append(df_train.columns[i])\n",
        "df_train.drop(drop_columns, axis=1, inplace=True)\n",
        "print(\"\\nColunas excluídas com sucesso.\")"
      ],
      "metadata": {
        "colab": {
          "base_uri": "https://localhost:8080/"
        },
        "id": "tmG8agzXV_wk",
        "outputId": "312c869f-d03b-4565-a819-dc4e796d4c95"
      },
      "execution_count": 14,
      "outputs": [
        {
          "output_type": "stream",
          "name": "stdout",
          "text": [
            "As seguintes features seguidas da porcentagem de valores nulos nas amostras serão eliminadas: \n",
            "DS_TIPO_CONSULTA  ( 96.20 % )\n",
            "QT_TEMPO_DOENCA  ( 99.93 % )\n",
            "DS_UNIDADE_TEMPO_DOENCA  ( 99.93 % )\n",
            "DS_TIPO_DOENCA  ( 99.77 % )\n",
            "DS_TIPO_SAIDA  ( 100.00 % )\n",
            "\n",
            "Colunas excluídas com sucesso.\n"
          ]
        }
      ]
    },
    {
      "cell_type": "markdown",
      "source": [
        "Verificar as informações do dataset:"
      ],
      "metadata": {
        "id": "f2J7A06OpUHV"
      }
    },
    {
      "cell_type": "code",
      "source": [
        "df_train.info()"
      ],
      "metadata": {
        "colab": {
          "base_uri": "https://localhost:8080/"
        },
        "id": "oa9IwwxfgTgy",
        "outputId": "f2c6fdc0-81fc-4319-8f37-10251478488c"
      },
      "execution_count": 15,
      "outputs": [
        {
          "output_type": "stream",
          "name": "stdout",
          "text": [
            "<class 'pandas.core.frame.DataFrame'>\n",
            "RangeIndex: 412540 entries, 0 to 412539\n",
            "Data columns (total 26 columns):\n",
            " #   Column                     Non-Null Count   Dtype  \n",
            "---  ------                     --------------   -----  \n",
            " 0   NR_SEQ_REQUISICAO          412540 non-null  int64  \n",
            " 1   NR_SEQ_ITEM                412540 non-null  int64  \n",
            " 2   DT_REQUISICAO              412540 non-null  int64  \n",
            " 3   DS_TIPO_GUIA               412540 non-null  object \n",
            " 4   DT_NASCIMENTO              412529 non-null  float64\n",
            " 5   NR_PRODUTO                 412540 non-null  int64  \n",
            " 6   DS_TIPO_PREST_SOLICITANTE  412540 non-null  object \n",
            " 7   DS_CBO                     412540 non-null  object \n",
            " 8   DS_INDICACAO_ACIDENTE      380490 non-null  object \n",
            " 9   DS_TIPO_INTERNACAO         121928 non-null  object \n",
            " 10  DS_REGIME_INTERNACAO       121929 non-null  object \n",
            " 11  DS_CARATER_ATENDIMENTO     412540 non-null  object \n",
            " 12  DS_TIPO_ACOMODACAO         121854 non-null  object \n",
            " 13  QT_DIA_SOLICITADO          120685 non-null  float64\n",
            " 14  CD_GUIA_REFERENCIA         70298 non-null   float64\n",
            " 15  DS_TIPO_ATENDIMENTO        291251 non-null  object \n",
            " 16  CD_CID                     177523 non-null  object \n",
            " 17  DS_INDICACAO_CLINICA       325070 non-null  object \n",
            " 18  DS_TIPO_ITEM               412540 non-null  object \n",
            " 19  CD_ITEM                    412540 non-null  int64  \n",
            " 20  DS_ITEM                    412540 non-null  object \n",
            " 21  DS_CLASSE                  412540 non-null  object \n",
            " 22  DS_SUBGRUPO                412540 non-null  object \n",
            " 23  DS_GRUPO                   412540 non-null  object \n",
            " 24  QT_SOLICITADA              412540 non-null  int64  \n",
            " 25  DS_STATUS_ITEM             412540 non-null  object \n",
            "dtypes: float64(3), int64(6), object(17)\n",
            "memory usage: 81.8+ MB\n"
          ]
        }
      ]
    },
    {
      "cell_type": "markdown",
      "source": [
        "Vamos ver a correlação novamente e partir para a próxima seção"
      ],
      "metadata": {
        "id": "hlkz68k4uNzx"
      }
    },
    {
      "cell_type": "code",
      "source": [
        "df_train.corr()\n",
        "plt.figure(figsize=(12,9))\n",
        "sns.heatmap(df_train.corr(), annot=True, cmap='YlGnBu')"
      ],
      "metadata": {
        "colab": {
          "base_uri": "https://localhost:8080/",
          "height": 649
        },
        "id": "n99AOziZpF_K",
        "outputId": "38da964e-bb9a-4b40-d9e3-ef75e9c0e144"
      },
      "execution_count": 27,
      "outputs": [
        {
          "output_type": "execute_result",
          "data": {
            "text/plain": [
              "<matplotlib.axes._subplots.AxesSubplot at 0x7fcb907ef790>"
            ]
          },
          "metadata": {},
          "execution_count": 27
        },
        {
          "output_type": "display_data",
          "data": {
            "text/plain": [
              "<Figure size 864x648 with 2 Axes>"
            ],
            "image/png": "[encoded data removed]"
          },
          "metadata": {
            "needs_background": "light"
          }
        }
      ]
    },
    {
      "cell_type": "markdown",
      "source": [
        "## Descarte de features redundantes"
      ],
      "metadata": {
        "id": "n1CMJint1kzi"
      }
    },
    {
      "cell_type": "markdown",
      "source": [
        "A matriz de correlação printada acima informa que os coeficientes da coluna `'NR_PRODUTO'` são inválidos. Vamos ver o por quê, mediante o print dos seus valores únicos:"
      ],
      "metadata": {
        "id": "lAyfrYmUulxG"
      }
    },
    {
      "cell_type": "code",
      "source": [
        "df_train[\"NR_PRODUTO\"].value_counts(dropna=False)"
      ],
      "metadata": {
        "colab": {
          "base_uri": "https://localhost:8080/"
        },
        "id": "dRZXYFsWulZU",
        "outputId": "b938d682-bb68-4545-fe25-3f3df955da6a"
      },
      "execution_count": 17,
      "outputs": [
        {
          "output_type": "execute_result",
          "data": {
            "text/plain": [
              "1    412540\n",
              "Name: NR_PRODUTO, dtype: int64"
            ]
          },
          "metadata": {},
          "execution_count": 17
        }
      ]
    },
    {
      "cell_type": "markdown",
      "source": [
        "Percebe-se que todas as linhas da coluna `'NR_PRODUTO'` estão preenchidas com o valor 1. Logo, essa feature não irá adicionar nada em nosso modelo. Dessa forma, será feita o descarte da mesma:\n"
      ],
      "metadata": {
        "id": "W7B1LYPU2A1F"
      }
    },
    {
      "cell_type": "code",
      "source": [
        "df_train.drop([\"NR_PRODUTO\"], inplace=True, axis=1)"
      ],
      "metadata": {
        "id": "a17gXCLu2B_e"
      },
      "execution_count": 18,
      "outputs": []
    },
    {
      "cell_type": "markdown",
      "source": [
        "Vamos ver a correlação novamente:"
      ],
      "metadata": {
        "id": "V95zJwCdvGxI"
      }
    },
    {
      "cell_type": "code",
      "source": [
        "df_train.corr()\n",
        "plt.figure(figsize=(12,9))\n",
        "sns.heatmap(df_train.corr(), annot=True, cmap='YlGnBu')"
      ],
      "metadata": {
        "colab": {
          "base_uri": "https://localhost:8080/"
        },
        "id": "7e5Ba4aTvEqN",
        "outputId": "1dbb4c25-435b-4432-b4fa-f6cbdc90d850"
      },
      "execution_count": 19,
      "outputs": [
        {
          "output_type": "execute_result",
          "data": {
            "text/plain": [
              "<matplotlib.axes._subplots.AxesSubplot at 0x7fcb93a3d890>"
            ]
          },
          "metadata": {},
          "execution_count": 19
        }
      ]
    },
    {
      "cell_type": "markdown",
      "source": [
        "Vamos enxergar melhor a relação entre `\"CD_GUIA_REFERENCIA\"`, `\"DT_REQUISICAO\"` e `\"NR_SEQ_REQUISICAO\"`."
      ],
      "metadata": {
        "id": "-HKr7UQ8vYUw"
      }
    },
    {
      "cell_type": "code",
      "source": [
        "sns.pairplot(df_train.drop(df_train.columns.difference([\"CD_GUIA_REFERENCIA\",\"DT_REQUISICAO\", \"NR_SEQ_REQUISICAO\"]), axis=1, inplace=False))"
      ],
      "metadata": {
        "colab": {
          "base_uri": "https://localhost:8080/"
        },
        "id": "-itZ6aT5xq7w",
        "outputId": "1b3f9038-1b5a-4335-ba45-a01e3e8fbb9d"
      },
      "execution_count": 20,
      "outputs": [
        {
          "output_type": "execute_result",
          "data": {
            "text/plain": [
              "<seaborn.axisgrid.PairGrid at 0x7fcb8cae3410>"
            ]
          },
          "metadata": {},
          "execution_count": 20
        }
      ]
    },
    {
      "cell_type": "markdown",
      "source": [
        "A correlação entre elas é suficientemente alta (muito próximo de 1) para que pelo menos 2 sejam descartadas, visando a diminuição da dimensionalidade do problema.\n",
        "Sabemos que `\"CD_GUIA_REFERENCIA\"` tem cerca de 83% dos valores nulos. Por essa razão, tal feature será descartada."
      ],
      "metadata": {
        "id": "InzVcNCMzij8"
      }
    },
    {
      "cell_type": "code",
      "source": [
        "df_train.drop([\"CD_GUIA_REFERENCIA\"], inplace=True, axis=1)"
      ],
      "metadata": {
        "id": "NexzR5Jaz3Ja"
      },
      "execution_count": 22,
      "outputs": []
    },
    {
      "cell_type": "markdown",
      "source": [
        "Agora falta escolher entre as features `\"DT_REQUISICAO\"` e `\"NR_SEQ_REQUISICAO\"` para ser descartada. Visto que nenhuma contêm valores nulos, não há como descartar com base nestes. Então, foi escolhida a feature `\"NR_SEQ_REQUISICAO\"`, por conter menor correlação com `\"QT_DIA_SOLICITACAO\"`."
      ],
      "metadata": {
        "id": "UMu1sz4J3DVs"
      }
    },
    {
      "cell_type": "code",
      "source": [
        "df_train.drop([\"NR_SEQ_REQUISICAO\"], inplace=True, axis=1)"
      ],
      "metadata": {
        "id": "-RiFHSFtze1L"
      },
      "execution_count": 25,
      "outputs": []
    },
    {
      "cell_type": "markdown",
      "source": [
        "Vamos ver a correlação novamente e partir para a próxima seção:"
      ],
      "metadata": {
        "id": "E3fyVaTg8XKt"
      }
    },
    {
      "cell_type": "code",
      "source": [
        "df_train.corr()\n",
        "plt.figure(figsize=(12,9))\n",
        "sns.heatmap(df_train.corr(), annot=True, cmap='YlGnBu')"
      ],
      "metadata": {
        "colab": {
          "base_uri": "https://localhost:8080/",
          "height": 649
        },
        "id": "a_M3XtOg5Jif",
        "outputId": "4dfbd5b1-f129-4c9a-d8ab-8cb6252320d2"
      },
      "execution_count": 28,
      "outputs": [
        {
          "output_type": "execute_result",
          "data": {
            "text/plain": [
              "<matplotlib.axes._subplots.AxesSubplot at 0x7fcb90242310>"
            ]
          },
          "metadata": {},
          "execution_count": 28
        },
        {
          "output_type": "display_data",
          "data": {
            "text/plain": [
              "<Figure size 864x648 with 2 Axes>"
            ],
            "image/png": "[encoded data removed]"
          },
          "metadata": {
            "needs_background": "light"
          }
        }
      ]
    },
    {
      "cell_type": "markdown",
      "source": [
        "##Lidando com variáveis categóricas"
      ],
      "metadata": {
        "id": "ZBOoh6uK7uUQ"
      }
    },
    {
      "cell_type": "code",
      "source": [
        "\"\"\"\n",
        "Na feature ' DS_REGIME_INTERNACAO ' temos  290611  valores nulos de um total de  412540 amostras, isto é,  70.44 %\n",
        "Na feature ' DS_TIPO_ACOMODACAO ' temos  290686  valores nulos de um total de  412540 amostras, isto é,  70.46 %\n",
        "Na feature ' QT_DIA_SOLICITADO ' temos  291855  valores nulos de um total de  412540 amostras, isto é,  70.75 %\n",
        "\"\"\"\n",
        "df_train[\"DS_REGIME_INTERNACAO\"].value_counts()"
      ],
      "metadata": {
        "colab": {
          "base_uri": "https://localhost:8080/"
        },
        "id": "LfKKaX3wvwdx",
        "outputId": "9740fd55-c9a0-44a9-bbc9-722f22ef45b6"
      },
      "execution_count": 30,
      "outputs": [
        {
          "output_type": "execute_result",
          "data": {
            "text/plain": [
              "Hospitalar      115394\n",
              "Hospital-dia      5909\n",
              "Domiciliar         626\n",
              "Name: DS_REGIME_INTERNACAO, dtype: int64"
            ]
          },
          "metadata": {},
          "execution_count": 30
        }
      ]
    },
    {
      "cell_type": "code",
      "source": [
        "df_train[\"DS_TIPO_ACOMODACAO\"].value_counts()"
      ],
      "metadata": {
        "colab": {
          "base_uri": "https://localhost:8080/"
        },
        "id": "EMwq_bIM7c1v",
        "outputId": "787a1db3-13e9-40e7-fd2d-05a9fb468c6b"
      },
      "execution_count": 31,
      "outputs": [
        {
          "output_type": "execute_result",
          "data": {
            "text/plain": [
              "Enfermaria                                 82269\n",
              "UTI Adulto                                 22698\n",
              "UTI                                        12963\n",
              "Hospital Dia                                2124\n",
              "UTI Neo-Natal                                815\n",
              "Home Care                                    662\n",
              "Apartamento                                  296\n",
              "TSI - Unidade de Terapia semi-Intensiva       27\n",
              "Name: DS_TIPO_ACOMODACAO, dtype: int64"
            ]
          },
          "metadata": {},
          "execution_count": 31
        }
      ]
    },
    {
      "cell_type": "code",
      "source": [
        "df_train[\"QT_DIA_SOLICITADO\"].value_counts()"
      ],
      "metadata": {
        "colab": {
          "base_uri": "https://localhost:8080/"
        },
        "id": "l5rAKs8R7lvB",
        "outputId": "cca4192f-02f5-4a7c-a081-5449406ed7e3"
      },
      "execution_count": 32,
      "outputs": [
        {
          "output_type": "execute_result",
          "data": {
            "text/plain": [
              "1.0     56024\n",
              "0.0     16902\n",
              "2.0     15550\n",
              "3.0     10056\n",
              "5.0      6154\n",
              "4.0      4512\n",
              "6.0      2113\n",
              "10.0     1779\n",
              "7.0      1701\n",
              "8.0      1006\n",
              "15.0      893\n",
              "9.0       710\n",
              "11.0      477\n",
              "14.0      412\n",
              "30.0      387\n",
              "12.0      372\n",
              "13.0      271\n",
              "31.0      235\n",
              "18.0      222\n",
              "16.0      203\n",
              "19.0      156\n",
              "17.0      108\n",
              "20.0       95\n",
              "28.0       82\n",
              "21.0       60\n",
              "23.0       54\n",
              "22.0       50\n",
              "25.0       33\n",
              "34.0       19\n",
              "24.0       18\n",
              "26.0       17\n",
              "29.0        5\n",
              "35.0        3\n",
              "47.0        3\n",
              "55.0        2\n",
              "27.0        1\n",
              "Name: QT_DIA_SOLICITADO, dtype: int64"
            ]
          },
          "metadata": {},
          "execution_count": 32
        }
      ]
    },
    {
      "cell_type": "code",
      "source": [
        "\"\"\" Pode apagar?\n",
        "\n",
        "# Fiz um dataframe novo só com os valores nulos para a comparação\n",
        "new_data = df_train.dropna(axis = 0, how ='any')\n",
        "  \n",
        "# Comparei o tamanho dos dados\n",
        "print(\"Tamanho do original:\", len(df_train), \"\\nNovo tamanho:\", \n",
        "       len(new_data), \"\\nNúmero de linhas retiradas com ao menos 1 NA : \",\n",
        "       (len(df_train)-len(new_data)))\n",
        "\n",
        "#detecta todas as colunas que possuem pelo menos um valor nulo.\n",
        "df_train.isna().any()\n",
        "\n",
        "#O código informa a quantidade de valores não nulos que a coluna possui.\n",
        "df_train.count()\n",
        "\n",
        "\"\"\""
      ],
      "metadata": {
        "id": "wEr39HpsAJWx"
      },
      "execution_count": null,
      "outputs": []
    },
    {
      "cell_type": "markdown",
      "source": [
        "## Detalhamento dos dados"
      ],
      "metadata": {
        "id": "DdD-_komSUCV"
      }
    },
    {
      "cell_type": "code",
      "source": [
        "profile = ProfileReport(df_train, title='Profiling Diabets',html={'style':{'full_width':True}})\n",
        "profile.to_notebook_iframe()"
      ],
      "metadata": {
        "id": "cDjdZ9vbNLIx"
      },
      "execution_count": null,
      "outputs": []
    },
    {
      "cell_type": "code",
      "source": [
        "print(df_train['DS_STATUS_ITEM'].value_counts())\n",
        "\n",
        "# cria um gráfico de barras com a frequência de cada classe\n",
        "sns.countplot(x=\"DS_STATUS_ITEM\", data=df_train)\n",
        "plt.show()\n",
        "\n",
        "#Mudar os parcialmente autorizados para autorizados"
      ],
      "metadata": {
        "id": "lhLuqpJGH6Kw"
      },
      "execution_count": null,
      "outputs": []
    },
    {
      "cell_type": "code",
      "source": [
        "for atributo in df_train[variaveis_numericas[1:]]:\n",
        "    sns.boxplot(x=\"DS_STATUS_ITEM\", y=atributo, data=df_train, whis=1.5)\n",
        "    plt.show()"
      ],
      "metadata": {
        "id": "6Sb2tIvlQmfp"
      },
      "execution_count": null,
      "outputs": []
    }
  ]
}